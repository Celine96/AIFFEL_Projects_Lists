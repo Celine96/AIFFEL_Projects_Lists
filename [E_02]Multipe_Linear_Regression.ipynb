{
  "cells": [
    {
      "cell_type": "markdown",
      "metadata": {
        "id": "6ZDAESHA0s4H"
      },
      "source": [
        "## 프로젝트1. 당뇨병 환자 데이터(diabetes)와 다중 선형 회귀\n",
        "\n",
        "### 데이터 상세 페이지\n",
        "- https://scikit-learn.org/stable/modules/generated/sklearn.datasets.load_diabetes.html"
      ]
    },
    {
      "cell_type": "code",
      "execution_count": 33,
      "metadata": {
        "id": "2DSs-zLE0fVj",
        "colab": {
          "base_uri": "https://localhost:8080/"
        },
        "outputId": "de808c4e-606d-443e-a1ac-8e9b6e51732f"
      },
      "outputs": [
        {
          "output_type": "execute_result",
          "data": {
            "text/plain": [
              "{'data': array([[ 0.03807591,  0.05068012,  0.06169621, ..., -0.00259226,\n",
              "          0.01990842, -0.01764613],\n",
              "        [-0.00188202, -0.04464164, -0.05147406, ..., -0.03949338,\n",
              "         -0.06832974, -0.09220405],\n",
              "        [ 0.08529891,  0.05068012,  0.04445121, ..., -0.00259226,\n",
              "          0.00286377, -0.02593034],\n",
              "        ...,\n",
              "        [ 0.04170844,  0.05068012, -0.01590626, ..., -0.01107952,\n",
              "         -0.04687948,  0.01549073],\n",
              "        [-0.04547248, -0.04464164,  0.03906215, ...,  0.02655962,\n",
              "          0.04452837, -0.02593034],\n",
              "        [-0.04547248, -0.04464164, -0.0730303 , ..., -0.03949338,\n",
              "         -0.00421986,  0.00306441]]),\n",
              " 'target': array([151.,  75., 141., 206., 135.,  97., 138.,  63., 110., 310., 101.,\n",
              "         69., 179., 185., 118., 171., 166., 144.,  97., 168.,  68.,  49.,\n",
              "         68., 245., 184., 202., 137.,  85., 131., 283., 129.,  59., 341.,\n",
              "         87.,  65., 102., 265., 276., 252.,  90., 100.,  55.,  61.,  92.,\n",
              "        259.,  53., 190., 142.,  75., 142., 155., 225.,  59., 104., 182.,\n",
              "        128.,  52.,  37., 170., 170.,  61., 144.,  52., 128.,  71., 163.,\n",
              "        150.,  97., 160., 178.,  48., 270., 202., 111.,  85.,  42., 170.,\n",
              "        200., 252., 113., 143.,  51.,  52., 210.,  65., 141.,  55., 134.,\n",
              "         42., 111.,  98., 164.,  48.,  96.,  90., 162., 150., 279.,  92.,\n",
              "         83., 128., 102., 302., 198.,  95.,  53., 134., 144., 232.,  81.,\n",
              "        104.,  59., 246., 297., 258., 229., 275., 281., 179., 200., 200.,\n",
              "        173., 180.,  84., 121., 161.,  99., 109., 115., 268., 274., 158.,\n",
              "        107.,  83., 103., 272.,  85., 280., 336., 281., 118., 317., 235.,\n",
              "         60., 174., 259., 178., 128.,  96., 126., 288.,  88., 292.,  71.,\n",
              "        197., 186.,  25.,  84.,  96., 195.,  53., 217., 172., 131., 214.,\n",
              "         59.,  70., 220., 268., 152.,  47.,  74., 295., 101., 151., 127.,\n",
              "        237., 225.,  81., 151., 107.,  64., 138., 185., 265., 101., 137.,\n",
              "        143., 141.,  79., 292., 178.,  91., 116.,  86., 122.,  72., 129.,\n",
              "        142.,  90., 158.,  39., 196., 222., 277.,  99., 196., 202., 155.,\n",
              "         77., 191.,  70.,  73.,  49.,  65., 263., 248., 296., 214., 185.,\n",
              "         78.,  93., 252., 150.,  77., 208.,  77., 108., 160.,  53., 220.,\n",
              "        154., 259.,  90., 246., 124.,  67.,  72., 257., 262., 275., 177.,\n",
              "         71.,  47., 187., 125.,  78.,  51., 258., 215., 303., 243.,  91.,\n",
              "        150., 310., 153., 346.,  63.,  89.,  50.,  39., 103., 308., 116.,\n",
              "        145.,  74.,  45., 115., 264.,  87., 202., 127., 182., 241.,  66.,\n",
              "         94., 283.,  64., 102., 200., 265.,  94., 230., 181., 156., 233.,\n",
              "         60., 219.,  80.,  68., 332., 248.,  84., 200.,  55.,  85.,  89.,\n",
              "         31., 129.,  83., 275.,  65., 198., 236., 253., 124.,  44., 172.,\n",
              "        114., 142., 109., 180., 144., 163., 147.,  97., 220., 190., 109.,\n",
              "        191., 122., 230., 242., 248., 249., 192., 131., 237.,  78., 135.,\n",
              "        244., 199., 270., 164.,  72.,  96., 306.,  91., 214.,  95., 216.,\n",
              "        263., 178., 113., 200., 139., 139.,  88., 148.,  88., 243.,  71.,\n",
              "         77., 109., 272.,  60.,  54., 221.,  90., 311., 281., 182., 321.,\n",
              "         58., 262., 206., 233., 242., 123., 167.,  63., 197.,  71., 168.,\n",
              "        140., 217., 121., 235., 245.,  40.,  52., 104., 132.,  88.,  69.,\n",
              "        219.,  72., 201., 110.,  51., 277.,  63., 118.,  69., 273., 258.,\n",
              "         43., 198., 242., 232., 175.,  93., 168., 275., 293., 281.,  72.,\n",
              "        140., 189., 181., 209., 136., 261., 113., 131., 174., 257.,  55.,\n",
              "         84.,  42., 146., 212., 233.,  91., 111., 152., 120.,  67., 310.,\n",
              "         94., 183.,  66., 173.,  72.,  49.,  64.,  48., 178., 104., 132.,\n",
              "        220.,  57.]),\n",
              " 'frame': None,\n",
              " 'DESCR': '.. _diabetes_dataset:\\n\\nDiabetes dataset\\n----------------\\n\\nTen baseline variables, age, sex, body mass index, average blood\\npressure, and six blood serum measurements were obtained for each of n =\\n442 diabetes patients, as well as the response of interest, a\\nquantitative measure of disease progression one year after baseline.\\n\\n**Data Set Characteristics:**\\n\\n  :Number of Instances: 442\\n\\n  :Number of Attributes: First 10 columns are numeric predictive values\\n\\n  :Target: Column 11 is a quantitative measure of disease progression one year after baseline\\n\\n  :Attribute Information:\\n      - age     age in years\\n      - sex\\n      - bmi     body mass index\\n      - bp      average blood pressure\\n      - s1      tc, total serum cholesterol\\n      - s2      ldl, low-density lipoproteins\\n      - s3      hdl, high-density lipoproteins\\n      - s4      tch, total cholesterol / HDL\\n      - s5      ltg, possibly log of serum triglycerides level\\n      - s6      glu, blood sugar level\\n\\nNote: Each of these 10 feature variables have been mean centered and scaled by the standard deviation times `n_samples` (i.e. the sum of squares of each column totals 1).\\n\\nSource URL:\\nhttps://www4.stat.ncsu.edu/~boos/var.select/diabetes.html\\n\\nFor more information see:\\nBradley Efron, Trevor Hastie, Iain Johnstone and Robert Tibshirani (2004) \"Least Angle Regression,\" Annals of Statistics (with discussion), 407-499.\\n(https://web.stanford.edu/~hastie/Papers/LARS/LeastAngle_2002.pdf)',\n",
              " 'feature_names': ['age',\n",
              "  'sex',\n",
              "  'bmi',\n",
              "  'bp',\n",
              "  's1',\n",
              "  's2',\n",
              "  's3',\n",
              "  's4',\n",
              "  's5',\n",
              "  's6'],\n",
              " 'data_filename': 'diabetes_data.csv.gz',\n",
              " 'target_filename': 'diabetes_target.csv.gz',\n",
              " 'data_module': 'sklearn.datasets.data'}"
            ]
          },
          "metadata": {},
          "execution_count": 33
        }
      ],
      "source": [
        "from sklearn.datasets import load_diabetes\n",
        "import math\n",
        "import matplotlib.pyplot as plt\n",
        "import numpy as np\n",
        "\n",
        "diabetes = load_diabetes()\n",
        "diabetes"
      ]
    },
    {
      "cell_type": "code",
      "source": [
        "diabetes.keys()"
      ],
      "metadata": {
        "colab": {
          "base_uri": "https://localhost:8080/"
        },
        "id": "kGvg9gMSSRlu",
        "outputId": "b2b3f085-3692-4ca4-dc6b-67ecce1447dc"
      },
      "execution_count": 34,
      "outputs": [
        {
          "output_type": "execute_result",
          "data": {
            "text/plain": [
              "dict_keys(['data', 'target', 'frame', 'DESCR', 'feature_names', 'data_filename', 'target_filename', 'data_module'])"
            ]
          },
          "metadata": {},
          "execution_count": 34
        }
      ]
    },
    {
      "cell_type": "code",
      "execution_count": 35,
      "metadata": {
        "colab": {
          "base_uri": "https://localhost:8080/"
        },
        "id": "mS9QFR5Q0pHc",
        "outputId": "4836bbe5-c629-4e31-f7e5-5c3415193188"
      },
      "outputs": [
        {
          "output_type": "stream",
          "name": "stdout",
          "text": [
            "(442, 10) (442,)\n"
          ]
        }
      ],
      "source": [
        "print(diabetes.data.shape, diabetes.target.shape)"
      ]
    },
    {
      "cell_type": "code",
      "execution_count": 36,
      "metadata": {
        "colab": {
          "base_uri": "https://localhost:8080/"
        },
        "id": "GBb8Lybu1Nkb",
        "outputId": "0858432f-e936-493a-9649-a106864eb368"
      },
      "outputs": [
        {
          "output_type": "execute_result",
          "data": {
            "text/plain": [
              "['age', 'sex', 'bmi', 'bp', 's1', 's2', 's3', 's4', 's5', 's6']"
            ]
          },
          "metadata": {},
          "execution_count": 36
        }
      ],
      "source": [
        "diabetes.feature_names"
      ]
    },
    {
      "cell_type": "code",
      "execution_count": 37,
      "metadata": {
        "colab": {
          "base_uri": "https://localhost:8080/"
        },
        "id": "PsLQQdkp1Q5w",
        "outputId": "8f9b25d7-7c3b-45b0-90dd-ccefb19ecbf6"
      },
      "outputs": [
        {
          "output_type": "execute_result",
          "data": {
            "text/plain": [
              "array([[ 0.03807591,  0.05068012,  0.06169621, ..., -0.00259226,\n",
              "         0.01990842, -0.01764613],\n",
              "       [-0.00188202, -0.04464164, -0.05147406, ..., -0.03949338,\n",
              "        -0.06832974, -0.09220405],\n",
              "       [ 0.08529891,  0.05068012,  0.04445121, ..., -0.00259226,\n",
              "         0.00286377, -0.02593034],\n",
              "       ...,\n",
              "       [ 0.04170844,  0.05068012, -0.01590626, ..., -0.01107952,\n",
              "        -0.04687948,  0.01549073],\n",
              "       [-0.04547248, -0.04464164,  0.03906215, ...,  0.02655962,\n",
              "         0.04452837, -0.02593034],\n",
              "       [-0.04547248, -0.04464164, -0.0730303 , ..., -0.03949338,\n",
              "        -0.00421986,  0.00306441]])"
            ]
          },
          "metadata": {},
          "execution_count": 37
        }
      ],
      "source": [
        "diabetes.data"
      ]
    },
    {
      "cell_type": "code",
      "execution_count": 38,
      "metadata": {
        "id": "FGtJRyqj0qdX"
      },
      "outputs": [],
      "source": [
        "df_X = diabetes.data\n",
        "df_y = diabetes.target"
      ]
    },
    {
      "cell_type": "code",
      "execution_count": 39,
      "metadata": {
        "id": "1PL-tNh41LUH"
      },
      "outputs": [],
      "source": [
        "import pandas as pd\n",
        "\n",
        "df = pd.DataFrame(data=df_X, columns=diabetes.feature_names)\n",
        "\n",
        "df['label'] = df_y"
      ]
    },
    {
      "cell_type": "code",
      "source": [
        "df.describe()"
      ],
      "metadata": {
        "colab": {
          "base_uri": "https://localhost:8080/",
          "height": 434
        },
        "id": "8KPr3qrtTabp",
        "outputId": "b0d209a1-40da-431f-ba80-e7c4cf918365"
      },
      "execution_count": 40,
      "outputs": [
        {
          "output_type": "execute_result",
          "data": {
            "text/plain": [
              "                age           sex           bmi            bp            s1  \\\n",
              "count  4.420000e+02  4.420000e+02  4.420000e+02  4.420000e+02  4.420000e+02   \n",
              "mean  -3.639623e-16  1.309912e-16 -8.013951e-16  1.289818e-16 -9.042540e-17   \n",
              "std    4.761905e-02  4.761905e-02  4.761905e-02  4.761905e-02  4.761905e-02   \n",
              "min   -1.072256e-01 -4.464164e-02 -9.027530e-02 -1.123996e-01 -1.267807e-01   \n",
              "25%   -3.729927e-02 -4.464164e-02 -3.422907e-02 -3.665645e-02 -3.424784e-02   \n",
              "50%    5.383060e-03 -4.464164e-02 -7.283766e-03 -5.670611e-03 -4.320866e-03   \n",
              "75%    3.807591e-02  5.068012e-02  3.124802e-02  3.564384e-02  2.835801e-02   \n",
              "max    1.107267e-01  5.068012e-02  1.705552e-01  1.320442e-01  1.539137e-01   \n",
              "\n",
              "                 s2            s3            s4            s5            s6  \\\n",
              "count  4.420000e+02  4.420000e+02  4.420000e+02  4.420000e+02  4.420000e+02   \n",
              "mean   1.301121e-16 -4.563971e-16  3.863174e-16 -3.848103e-16 -3.398488e-16   \n",
              "std    4.761905e-02  4.761905e-02  4.761905e-02  4.761905e-02  4.761905e-02   \n",
              "min   -1.156131e-01 -1.023071e-01 -7.639450e-02 -1.260974e-01 -1.377672e-01   \n",
              "25%   -3.035840e-02 -3.511716e-02 -3.949338e-02 -3.324879e-02 -3.317903e-02   \n",
              "50%   -3.819065e-03 -6.584468e-03 -2.592262e-03 -1.947634e-03 -1.077698e-03   \n",
              "75%    2.984439e-02  2.931150e-02  3.430886e-02  3.243323e-02  2.791705e-02   \n",
              "max    1.987880e-01  1.811791e-01  1.852344e-01  1.335990e-01  1.356118e-01   \n",
              "\n",
              "            label  \n",
              "count  442.000000  \n",
              "mean   152.133484  \n",
              "std     77.093005  \n",
              "min     25.000000  \n",
              "25%     87.000000  \n",
              "50%    140.500000  \n",
              "75%    211.500000  \n",
              "max    346.000000  "
            ],
            "text/html": [
              "\n",
              "  <div id=\"df-956e1b6d-2014-4139-84ed-eaf59f27c1e2\">\n",
              "    <div class=\"colab-df-container\">\n",
              "      <div>\n",
              "<style scoped>\n",
              "    .dataframe tbody tr th:only-of-type {\n",
              "        vertical-align: middle;\n",
              "    }\n",
              "\n",
              "    .dataframe tbody tr th {\n",
              "        vertical-align: top;\n",
              "    }\n",
              "\n",
              "    .dataframe thead th {\n",
              "        text-align: right;\n",
              "    }\n",
              "</style>\n",
              "<table border=\"1\" class=\"dataframe\">\n",
              "  <thead>\n",
              "    <tr style=\"text-align: right;\">\n",
              "      <th></th>\n",
              "      <th>age</th>\n",
              "      <th>sex</th>\n",
              "      <th>bmi</th>\n",
              "      <th>bp</th>\n",
              "      <th>s1</th>\n",
              "      <th>s2</th>\n",
              "      <th>s3</th>\n",
              "      <th>s4</th>\n",
              "      <th>s5</th>\n",
              "      <th>s6</th>\n",
              "      <th>label</th>\n",
              "    </tr>\n",
              "  </thead>\n",
              "  <tbody>\n",
              "    <tr>\n",
              "      <th>count</th>\n",
              "      <td>4.420000e+02</td>\n",
              "      <td>4.420000e+02</td>\n",
              "      <td>4.420000e+02</td>\n",
              "      <td>4.420000e+02</td>\n",
              "      <td>4.420000e+02</td>\n",
              "      <td>4.420000e+02</td>\n",
              "      <td>4.420000e+02</td>\n",
              "      <td>4.420000e+02</td>\n",
              "      <td>4.420000e+02</td>\n",
              "      <td>4.420000e+02</td>\n",
              "      <td>442.000000</td>\n",
              "    </tr>\n",
              "    <tr>\n",
              "      <th>mean</th>\n",
              "      <td>-3.639623e-16</td>\n",
              "      <td>1.309912e-16</td>\n",
              "      <td>-8.013951e-16</td>\n",
              "      <td>1.289818e-16</td>\n",
              "      <td>-9.042540e-17</td>\n",
              "      <td>1.301121e-16</td>\n",
              "      <td>-4.563971e-16</td>\n",
              "      <td>3.863174e-16</td>\n",
              "      <td>-3.848103e-16</td>\n",
              "      <td>-3.398488e-16</td>\n",
              "      <td>152.133484</td>\n",
              "    </tr>\n",
              "    <tr>\n",
              "      <th>std</th>\n",
              "      <td>4.761905e-02</td>\n",
              "      <td>4.761905e-02</td>\n",
              "      <td>4.761905e-02</td>\n",
              "      <td>4.761905e-02</td>\n",
              "      <td>4.761905e-02</td>\n",
              "      <td>4.761905e-02</td>\n",
              "      <td>4.761905e-02</td>\n",
              "      <td>4.761905e-02</td>\n",
              "      <td>4.761905e-02</td>\n",
              "      <td>4.761905e-02</td>\n",
              "      <td>77.093005</td>\n",
              "    </tr>\n",
              "    <tr>\n",
              "      <th>min</th>\n",
              "      <td>-1.072256e-01</td>\n",
              "      <td>-4.464164e-02</td>\n",
              "      <td>-9.027530e-02</td>\n",
              "      <td>-1.123996e-01</td>\n",
              "      <td>-1.267807e-01</td>\n",
              "      <td>-1.156131e-01</td>\n",
              "      <td>-1.023071e-01</td>\n",
              "      <td>-7.639450e-02</td>\n",
              "      <td>-1.260974e-01</td>\n",
              "      <td>-1.377672e-01</td>\n",
              "      <td>25.000000</td>\n",
              "    </tr>\n",
              "    <tr>\n",
              "      <th>25%</th>\n",
              "      <td>-3.729927e-02</td>\n",
              "      <td>-4.464164e-02</td>\n",
              "      <td>-3.422907e-02</td>\n",
              "      <td>-3.665645e-02</td>\n",
              "      <td>-3.424784e-02</td>\n",
              "      <td>-3.035840e-02</td>\n",
              "      <td>-3.511716e-02</td>\n",
              "      <td>-3.949338e-02</td>\n",
              "      <td>-3.324879e-02</td>\n",
              "      <td>-3.317903e-02</td>\n",
              "      <td>87.000000</td>\n",
              "    </tr>\n",
              "    <tr>\n",
              "      <th>50%</th>\n",
              "      <td>5.383060e-03</td>\n",
              "      <td>-4.464164e-02</td>\n",
              "      <td>-7.283766e-03</td>\n",
              "      <td>-5.670611e-03</td>\n",
              "      <td>-4.320866e-03</td>\n",
              "      <td>-3.819065e-03</td>\n",
              "      <td>-6.584468e-03</td>\n",
              "      <td>-2.592262e-03</td>\n",
              "      <td>-1.947634e-03</td>\n",
              "      <td>-1.077698e-03</td>\n",
              "      <td>140.500000</td>\n",
              "    </tr>\n",
              "    <tr>\n",
              "      <th>75%</th>\n",
              "      <td>3.807591e-02</td>\n",
              "      <td>5.068012e-02</td>\n",
              "      <td>3.124802e-02</td>\n",
              "      <td>3.564384e-02</td>\n",
              "      <td>2.835801e-02</td>\n",
              "      <td>2.984439e-02</td>\n",
              "      <td>2.931150e-02</td>\n",
              "      <td>3.430886e-02</td>\n",
              "      <td>3.243323e-02</td>\n",
              "      <td>2.791705e-02</td>\n",
              "      <td>211.500000</td>\n",
              "    </tr>\n",
              "    <tr>\n",
              "      <th>max</th>\n",
              "      <td>1.107267e-01</td>\n",
              "      <td>5.068012e-02</td>\n",
              "      <td>1.705552e-01</td>\n",
              "      <td>1.320442e-01</td>\n",
              "      <td>1.539137e-01</td>\n",
              "      <td>1.987880e-01</td>\n",
              "      <td>1.811791e-01</td>\n",
              "      <td>1.852344e-01</td>\n",
              "      <td>1.335990e-01</td>\n",
              "      <td>1.356118e-01</td>\n",
              "      <td>346.000000</td>\n",
              "    </tr>\n",
              "  </tbody>\n",
              "</table>\n",
              "</div>\n",
              "      <button class=\"colab-df-convert\" onclick=\"convertToInteractive('df-956e1b6d-2014-4139-84ed-eaf59f27c1e2')\"\n",
              "              title=\"Convert this dataframe to an interactive table.\"\n",
              "              style=\"display:none;\">\n",
              "        \n",
              "  <svg xmlns=\"http://www.w3.org/2000/svg\" height=\"24px\"viewBox=\"0 0 24 24\"\n",
              "       width=\"24px\">\n",
              "    <path d=\"M0 0h24v24H0V0z\" fill=\"none\"/>\n",
              "    <path d=\"M18.56 5.44l.94 2.06.94-2.06 2.06-.94-2.06-.94-.94-2.06-.94 2.06-2.06.94zm-11 1L8.5 8.5l.94-2.06 2.06-.94-2.06-.94L8.5 2.5l-.94 2.06-2.06.94zm10 10l.94 2.06.94-2.06 2.06-.94-2.06-.94-.94-2.06-.94 2.06-2.06.94z\"/><path d=\"M17.41 7.96l-1.37-1.37c-.4-.4-.92-.59-1.43-.59-.52 0-1.04.2-1.43.59L10.3 9.45l-7.72 7.72c-.78.78-.78 2.05 0 2.83L4 21.41c.39.39.9.59 1.41.59.51 0 1.02-.2 1.41-.59l7.78-7.78 2.81-2.81c.8-.78.8-2.07 0-2.86zM5.41 20L4 18.59l7.72-7.72 1.47 1.35L5.41 20z\"/>\n",
              "  </svg>\n",
              "      </button>\n",
              "      \n",
              "  <style>\n",
              "    .colab-df-container {\n",
              "      display:flex;\n",
              "      flex-wrap:wrap;\n",
              "      gap: 12px;\n",
              "    }\n",
              "\n",
              "    .colab-df-convert {\n",
              "      background-color: #E8F0FE;\n",
              "      border: none;\n",
              "      border-radius: 50%;\n",
              "      cursor: pointer;\n",
              "      display: none;\n",
              "      fill: #1967D2;\n",
              "      height: 32px;\n",
              "      padding: 0 0 0 0;\n",
              "      width: 32px;\n",
              "    }\n",
              "\n",
              "    .colab-df-convert:hover {\n",
              "      background-color: #E2EBFA;\n",
              "      box-shadow: 0px 1px 2px rgba(60, 64, 67, 0.3), 0px 1px 3px 1px rgba(60, 64, 67, 0.15);\n",
              "      fill: #174EA6;\n",
              "    }\n",
              "\n",
              "    [theme=dark] .colab-df-convert {\n",
              "      background-color: #3B4455;\n",
              "      fill: #D2E3FC;\n",
              "    }\n",
              "\n",
              "    [theme=dark] .colab-df-convert:hover {\n",
              "      background-color: #434B5C;\n",
              "      box-shadow: 0px 1px 3px 1px rgba(0, 0, 0, 0.15);\n",
              "      filter: drop-shadow(0px 1px 2px rgba(0, 0, 0, 0.3));\n",
              "      fill: #FFFFFF;\n",
              "    }\n",
              "  </style>\n",
              "\n",
              "      <script>\n",
              "        const buttonEl =\n",
              "          document.querySelector('#df-956e1b6d-2014-4139-84ed-eaf59f27c1e2 button.colab-df-convert');\n",
              "        buttonEl.style.display =\n",
              "          google.colab.kernel.accessAllowed ? 'block' : 'none';\n",
              "\n",
              "        async function convertToInteractive(key) {\n",
              "          const element = document.querySelector('#df-956e1b6d-2014-4139-84ed-eaf59f27c1e2');\n",
              "          const dataTable =\n",
              "            await google.colab.kernel.invokeFunction('convertToInteractive',\n",
              "                                                     [key], {});\n",
              "          if (!dataTable) return;\n",
              "\n",
              "          const docLinkHtml = 'Like what you see? Visit the ' +\n",
              "            '<a target=\"_blank\" href=https://colab.research.google.com/notebooks/data_table.ipynb>data table notebook</a>'\n",
              "            + ' to learn more about interactive tables.';\n",
              "          element.innerHTML = '';\n",
              "          dataTable['output_type'] = 'display_data';\n",
              "          await google.colab.output.renderOutput(dataTable, element);\n",
              "          const docLink = document.createElement('div');\n",
              "          docLink.innerHTML = docLinkHtml;\n",
              "          element.appendChild(docLink);\n",
              "        }\n",
              "      </script>\n",
              "    </div>\n",
              "  </div>\n",
              "  "
            ]
          },
          "metadata": {},
          "execution_count": 40
        }
      ]
    },
    {
      "cell_type": "code",
      "source": [
        "df.info()"
      ],
      "metadata": {
        "colab": {
          "base_uri": "https://localhost:8080/"
        },
        "id": "D4MtONnPTdHX",
        "outputId": "85f60c1f-f4f5-45b8-f5d9-2ca4c327a71e"
      },
      "execution_count": 41,
      "outputs": [
        {
          "output_type": "stream",
          "name": "stdout",
          "text": [
            "<class 'pandas.core.frame.DataFrame'>\n",
            "RangeIndex: 442 entries, 0 to 441\n",
            "Data columns (total 11 columns):\n",
            " #   Column  Non-Null Count  Dtype  \n",
            "---  ------  --------------  -----  \n",
            " 0   age     442 non-null    float64\n",
            " 1   sex     442 non-null    float64\n",
            " 2   bmi     442 non-null    float64\n",
            " 3   bp      442 non-null    float64\n",
            " 4   s1      442 non-null    float64\n",
            " 5   s2      442 non-null    float64\n",
            " 6   s3      442 non-null    float64\n",
            " 7   s4      442 non-null    float64\n",
            " 8   s5      442 non-null    float64\n",
            " 9   s6      442 non-null    float64\n",
            " 10  label   442 non-null    float64\n",
            "dtypes: float64(11)\n",
            "memory usage: 38.1 KB\n"
          ]
        }
      ]
    },
    {
      "cell_type": "code",
      "source": [
        "df.columns"
      ],
      "metadata": {
        "colab": {
          "base_uri": "https://localhost:8080/"
        },
        "id": "0JwRcyNyFdUK",
        "outputId": "dce8aa2d-0d11-448d-a85c-e98289a2a815"
      },
      "execution_count": 42,
      "outputs": [
        {
          "output_type": "execute_result",
          "data": {
            "text/plain": [
              "Index(['age', 'sex', 'bmi', 'bp', 's1', 's2', 's3', 's4', 's5', 's6', 'label'], dtype='object')"
            ]
          },
          "metadata": {},
          "execution_count": 42
        }
      ]
    },
    {
      "cell_type": "code",
      "source": [
        "# 모델에 입력할 df_X와 df_y 재설정 \n",
        "# 1차는 우선 기존에 있는 독립변수 전부 사용 \n",
        "X = df[['age', 'sex', 'bmi', 'bp', 's1', 's2', 's3', 's4', 's5', 's6']]\n",
        "y = df['label'].values\n",
        "\n",
        "df_X = X\n",
        "df_y = y"
      ],
      "metadata": {
        "id": "vYuXc1-5FMN_"
      },
      "execution_count": 43,
      "outputs": []
    },
    {
      "cell_type": "code",
      "execution_count": 44,
      "metadata": {
        "id": "jZ9Vsdjd1wZM",
        "colab": {
          "base_uri": "https://localhost:8080/"
        },
        "outputId": "6b240559-4a87-4f33-d96f-8f68ad167990"
      },
      "outputs": [
        {
          "output_type": "execute_result",
          "data": {
            "text/plain": [
              "numpy.ndarray"
            ]
          },
          "metadata": {},
          "execution_count": 44
        }
      ],
      "source": [
        "#노드 요청사항\n",
        "type(df_y)"
      ]
    },
    {
      "cell_type": "code",
      "source": [
        "len(['age', 'sex', 'bmi', 'bp', 's1', 's2', 's3', 's4', 's5', 's6'])"
      ],
      "metadata": {
        "colab": {
          "base_uri": "https://localhost:8080/"
        },
        "id": "J32jnBQvH9I3",
        "outputId": "a6dcd8e4-4462-4a0f-b198-520099a0b10c"
      },
      "execution_count": 45,
      "outputs": [
        {
          "output_type": "execute_result",
          "data": {
            "text/plain": [
              "10"
            ]
          },
          "metadata": {},
          "execution_count": 45
        }
      ]
    },
    {
      "cell_type": "code",
      "source": [
        "import matplotlib.pyplot as plt\n",
        "\n",
        "%matplotlib inline \n",
        "%config InlineBackend.ffigure_format = 'retina' #해상도 출력\n",
        "\n",
        "#plt.scatter(df)\n",
        "#plt.show()"
      ],
      "metadata": {
        "id": "auc7u5MqUThS"
      },
      "execution_count": 46,
      "outputs": []
    },
    {
      "cell_type": "code",
      "source": [
        "from sklearn.model_selection import train_test_split\n",
        "\n",
        "X_train, X_test, y_train, y_test = train_test_split(df_X, \n",
        "                                                    df_y, \n",
        "                                                    test_size=0.2, \n",
        "                                                    random_state=10 \n",
        "                                                    )"
      ],
      "metadata": {
        "id": "c-IGvRjQTSA3"
      },
      "execution_count": 47,
      "outputs": []
    },
    {
      "cell_type": "code",
      "source": [
        "#모델 준비\n",
        "## w,b에 대한 임이의 초기 파라미터 설정\n",
        "import numpy as np\n",
        "\n",
        "#numpy seed값 설정\n",
        "np.random.seed(42)\n",
        "\n",
        "W = np.random.rand(10)\n",
        "b = np.random.rand()\n",
        "\n",
        "print(W,b) "
      ],
      "metadata": {
        "colab": {
          "base_uri": "https://localhost:8080/"
        },
        "id": "nPyYZrwcUBVY",
        "outputId": "5c4c524b-dd19-4bd4-f052-b0914cac1348"
      },
      "execution_count": 48,
      "outputs": [
        {
          "output_type": "stream",
          "name": "stdout",
          "text": [
            "[0.37454012 0.95071431 0.73199394 0.59865848 0.15601864 0.15599452\n",
            " 0.05808361 0.86617615 0.60111501 0.70807258] 0.020584494295802447\n"
          ]
        }
      ]
    },
    {
      "cell_type": "code",
      "source": [
        "X_train = X_train.to_numpy()\n",
        "#y_train.to_numpy()\n",
        "\n",
        "\n",
        "print(X_train.shape)\n",
        "print(y_train.shape)\n",
        "# 'numpy.ndarray' object has no attribute 'types'\n",
        "## dataframe에서 array로 변환 완료\n",
        "\n",
        "#print(X_train.types)\n",
        "print(y_train.dtype)\n"
      ],
      "metadata": {
        "colab": {
          "base_uri": "https://localhost:8080/"
        },
        "id": "LA3_QQrfKw3x",
        "outputId": "11355f8f-67a5-4b66-c848-d6cb00461a34"
      },
      "execution_count": 49,
      "outputs": [
        {
          "output_type": "stream",
          "name": "stdout",
          "text": [
            "(353, 10)\n",
            "(353,)\n",
            "float64\n"
          ]
        }
      ]
    },
    {
      "cell_type": "code",
      "source": [
        "#모델 생성 (다중회귀모델)\n",
        "def model(X, W, b):\n",
        "    predictions = 0\n",
        "    for i in range(10):\n",
        "    #w1*x1 + w2*x2 + w3*x3 + w4*x4 + ..... + wi*xi + b\n",
        "        predictions += X[:, i] * W[i]\n",
        "    predictions += b\n",
        "    return predictions\n",
        "\n",
        "#모델의 손실함수는 mse로 설정\n",
        "def MSE(a, b):\n",
        "    mse = ((a - b) ** 2).mean()  # 두 값의 차이의 제곱의 평균\n",
        "    return mse\n",
        "\n",
        "def loss(X, W, b, y):\n",
        "    predictions = model(X, W, b)\n",
        "    L = MSE(predictions, y)\n",
        "    return L"
      ],
      "metadata": {
        "id": "A4jF8eDmINmC"
      },
      "execution_count": 50,
      "outputs": []
    },
    {
      "cell_type": "code",
      "source": [
        "def gradient(X, W, b, y):\n",
        "    # N은 가중치의 개수\n",
        "    N = len(W)\n",
        "    \n",
        "    # y_pred 준비\n",
        "    y_pred = model(X, W, b)\n",
        "    \n",
        "    # 공식에 맞게 gradient 계산\n",
        "    # 여기에 sum이 없는 이유는 뭐지? dot 계산에 sum도 포함\n",
        "    dW = 1/N * 2 * X.T.dot(y_pred - y)\n",
        "        \n",
        "    # b의 gradient 계산\n",
        "    db = 2 * (y_pred - y).mean()\n",
        "    return dW, db"
      ],
      "metadata": {
        "id": "JlSX-K1FJc-k"
      },
      "execution_count": 51,
      "outputs": []
    },
    {
      "cell_type": "code",
      "source": [
        "#learning rate는 0.001로하고\n",
        "# 경사하강법을 이용해서 손실함수를 최소화하는 최적의 파라미터 찾기\n",
        "lr  = 0.0001\n",
        "\n",
        "losses = []\n",
        "\n",
        "#에폭 : 1000\n",
        "for i in range(1, 1001):\n",
        "    dW, db = gradient(X_train, W, b, y_train)\n",
        "    W -= lr * dW\n",
        "    b -= lr * db\n",
        "    L = loss(X_train, W, b, y_train)\n",
        "    losses.append(L)\n",
        "    if i % 10 == 0:\n",
        "        print('Iteration %d : Loss %0.4f' % (i, L))"
      ],
      "metadata": {
        "colab": {
          "base_uri": "https://localhost:8080/"
        },
        "id": "w0egGlcIJjFm",
        "outputId": "c31c8d9f-3f43-4ec8-fbc9-239667fd76a7"
      },
      "execution_count": 52,
      "outputs": [
        {
          "output_type": "stream",
          "name": "stdout",
          "text": [
            "Iteration 10 : Loss 29112.1816\n",
            "Iteration 20 : Loss 29015.9955\n",
            "Iteration 30 : Loss 28920.1865\n",
            "Iteration 40 : Loss 28824.7529\n",
            "Iteration 50 : Loss 28729.6933\n",
            "Iteration 60 : Loss 28635.0062\n",
            "Iteration 70 : Loss 28540.6901\n",
            "Iteration 80 : Loss 28446.7436\n",
            "Iteration 90 : Loss 28353.1651\n",
            "Iteration 100 : Loss 28259.9533\n",
            "Iteration 110 : Loss 28167.1067\n",
            "Iteration 120 : Loss 28074.6238\n",
            "Iteration 130 : Loss 27982.5031\n",
            "Iteration 140 : Loss 27890.7433\n",
            "Iteration 150 : Loss 27799.3429\n",
            "Iteration 160 : Loss 27708.3004\n",
            "Iteration 170 : Loss 27617.6145\n",
            "Iteration 180 : Loss 27527.2837\n",
            "Iteration 190 : Loss 27437.3067\n",
            "Iteration 200 : Loss 27347.6819\n",
            "Iteration 210 : Loss 27258.4081\n",
            "Iteration 220 : Loss 27169.4838\n",
            "Iteration 230 : Loss 27080.9077\n",
            "Iteration 240 : Loss 26992.6783\n",
            "Iteration 250 : Loss 26904.7943\n",
            "Iteration 260 : Loss 26817.2542\n",
            "Iteration 270 : Loss 26730.0569\n",
            "Iteration 280 : Loss 26643.2008\n",
            "Iteration 290 : Loss 26556.6846\n",
            "Iteration 300 : Loss 26470.5070\n",
            "Iteration 310 : Loss 26384.6666\n",
            "Iteration 320 : Loss 26299.1621\n",
            "Iteration 330 : Loss 26213.9922\n",
            "Iteration 340 : Loss 26129.1555\n",
            "Iteration 350 : Loss 26044.6507\n",
            "Iteration 360 : Loss 25960.4764\n",
            "Iteration 370 : Loss 25876.6315\n",
            "Iteration 380 : Loss 25793.1145\n",
            "Iteration 390 : Loss 25709.9242\n",
            "Iteration 400 : Loss 25627.0592\n",
            "Iteration 410 : Loss 25544.5184\n",
            "Iteration 420 : Loss 25462.3003\n",
            "Iteration 430 : Loss 25380.4037\n",
            "Iteration 440 : Loss 25298.8273\n",
            "Iteration 450 : Loss 25217.5699\n",
            "Iteration 460 : Loss 25136.6302\n",
            "Iteration 470 : Loss 25056.0069\n",
            "Iteration 480 : Loss 24975.6988\n",
            "Iteration 490 : Loss 24895.7047\n",
            "Iteration 500 : Loss 24816.0232\n",
            "Iteration 510 : Loss 24736.6531\n",
            "Iteration 520 : Loss 24657.5932\n",
            "Iteration 530 : Loss 24578.8423\n",
            "Iteration 540 : Loss 24500.3991\n",
            "Iteration 550 : Loss 24422.2625\n",
            "Iteration 560 : Loss 24344.4312\n",
            "Iteration 570 : Loss 24266.9039\n",
            "Iteration 580 : Loss 24189.6795\n",
            "Iteration 590 : Loss 24112.7569\n",
            "Iteration 600 : Loss 24036.1347\n",
            "Iteration 610 : Loss 23959.8118\n",
            "Iteration 620 : Loss 23883.7869\n",
            "Iteration 630 : Loss 23808.0591\n",
            "Iteration 640 : Loss 23732.6269\n",
            "Iteration 650 : Loss 23657.4893\n",
            "Iteration 660 : Loss 23582.6452\n",
            "Iteration 670 : Loss 23508.0932\n",
            "Iteration 680 : Loss 23433.8324\n",
            "Iteration 690 : Loss 23359.8614\n",
            "Iteration 700 : Loss 23286.1792\n",
            "Iteration 710 : Loss 23212.7847\n",
            "Iteration 720 : Loss 23139.6766\n",
            "Iteration 730 : Loss 23066.8539\n",
            "Iteration 740 : Loss 22994.3153\n",
            "Iteration 750 : Loss 22922.0599\n",
            "Iteration 760 : Loss 22850.0864\n",
            "Iteration 770 : Loss 22778.3938\n",
            "Iteration 780 : Loss 22706.9809\n",
            "Iteration 790 : Loss 22635.8466\n",
            "Iteration 800 : Loss 22564.9898\n",
            "Iteration 810 : Loss 22494.4095\n",
            "Iteration 820 : Loss 22424.1044\n",
            "Iteration 830 : Loss 22354.0736\n",
            "Iteration 840 : Loss 22284.3159\n",
            "Iteration 850 : Loss 22214.8302\n",
            "Iteration 860 : Loss 22145.6156\n",
            "Iteration 870 : Loss 22076.6708\n",
            "Iteration 880 : Loss 22007.9948\n",
            "Iteration 890 : Loss 21939.5867\n",
            "Iteration 900 : Loss 21871.4452\n",
            "Iteration 910 : Loss 21803.5693\n",
            "Iteration 920 : Loss 21735.9580\n",
            "Iteration 930 : Loss 21668.6103\n",
            "Iteration 940 : Loss 21601.5251\n",
            "Iteration 950 : Loss 21534.7013\n",
            "Iteration 960 : Loss 21468.1379\n",
            "Iteration 970 : Loss 21401.8339\n",
            "Iteration 980 : Loss 21335.7882\n",
            "Iteration 990 : Loss 21269.9999\n",
            "Iteration 1000 : Loss 21204.4678\n"
          ]
        }
      ]
    },
    {
      "cell_type": "code",
      "source": [
        "# 모델학습 loss 시각화\n",
        "\n",
        "import matplotlib.pyplot as plt\n",
        "plt.plot(losses)\n",
        "plt.show()\n"
      ],
      "metadata": {
        "colab": {
          "base_uri": "https://localhost:8080/",
          "height": 265
        },
        "id": "9K_2SjPmJwEd",
        "outputId": "bb31785b-dcdf-40dc-ef10-ae2a8f3f1da3"
      },
      "execution_count": 53,
      "outputs": [
        {
          "output_type": "display_data",
          "data": {
            "text/plain": [
              "<Figure size 432x288 with 1 Axes>"
            ],
            "image/png": "[encoded data removed]"
          },
          "metadata": {
            "needs_background": "light"
          }
        }
      ]
    },
    {
      "cell_type": "code",
      "source": [
        "#최적의 파라미터\n",
        "W, b"
      ],
      "metadata": {
        "colab": {
          "base_uri": "https://localhost:8080/"
        },
        "id": "hKuP4AtdNP7v",
        "outputId": "b8ef4d5f-8b28-4fc1-f273-634374185f41"
      },
      "execution_count": 54,
      "outputs": [
        {
          "output_type": "execute_result",
          "data": {
            "text/plain": [
              "(array([  6.35690949,   3.06637118,  15.43291194,  11.12254877,\n",
              "          6.16184542,   5.28034777, -11.74480801,  13.57938735,\n",
              "         15.78388463,  10.75614606]), 27.730451098758422)"
            ]
          },
          "metadata": {},
          "execution_count": 54
        }
      ]
    },
    {
      "cell_type": "code",
      "source": [
        "print(type(X_test))\n",
        "print(type(y_test))\n",
        "\n",
        "print(X_test.shape)\n",
        "print(y_test.shape)"
      ],
      "metadata": {
        "colab": {
          "base_uri": "https://localhost:8080/"
        },
        "id": "MBDzTvnrOKKg",
        "outputId": "66a9a102-52f5-477f-9426-f670b1095cd4"
      },
      "execution_count": 55,
      "outputs": [
        {
          "output_type": "stream",
          "name": "stdout",
          "text": [
            "<class 'pandas.core.frame.DataFrame'>\n",
            "<class 'numpy.ndarray'>\n",
            "(89, 10)\n",
            "(89,)\n"
          ]
        }
      ]
    },
    {
      "cell_type": "code",
      "source": [
        "X_test = X_test.to_numpy()\n",
        "# y_test = y_test.to_numpy()"
      ],
      "metadata": {
        "id": "U82gVClMNfI7"
      },
      "execution_count": 56,
      "outputs": []
    },
    {
      "cell_type": "code",
      "source": [
        "prediction = model(X_test, W, b)\n",
        "mse = loss(X_test, W, b, y_test)\n",
        "mse"
      ],
      "metadata": {
        "colab": {
          "base_uri": "https://localhost:8080/"
        },
        "id": "PJcr2cQbNTVx",
        "outputId": "f287c7d6-3d16-46da-cbce-820fcb324ca5"
      },
      "execution_count": 57,
      "outputs": [
        {
          "output_type": "execute_result",
          "data": {
            "text/plain": [
              "20760.800617745077"
            ]
          },
          "metadata": {},
          "execution_count": 57
        }
      ]
    },
    {
      "cell_type": "code",
      "source": [
        "plt.scatter(X_test[:, 0], y_test)\n",
        "plt.scatter(X_test[:, 0], prediction)\n",
        "plt.show()"
      ],
      "metadata": {
        "colab": {
          "base_uri": "https://localhost:8080/",
          "height": 265
        },
        "id": "YJM3crtkNZpK",
        "outputId": "13698fd0-fdee-4782-94ca-34f1cba98b60"
      },
      "execution_count": 58,
      "outputs": [
        {
          "output_type": "display_data",
          "data": {
            "text/plain": [
              "<Figure size 432x288 with 1 Axes>"
            ],
            "image/png": "[encoded data removed]"
          },
          "metadata": {
            "needs_background": "light"
          }
        }
      ]
    },
    {
      "cell_type": "code",
      "source": [],
      "metadata": {
        "id": "0_Uld_ZaOhCN"
      },
      "execution_count": 58,
      "outputs": []
    }
  ],
  "metadata": {
    "colab": {
      "provenance": []
    },
    "kernelspec": {
      "display_name": "Python 3",
      "name": "python3"
    },
    "language_info": {
      "name": "python"
    }
  },
  "nbformat": 4,
  "nbformat_minor": 0
}