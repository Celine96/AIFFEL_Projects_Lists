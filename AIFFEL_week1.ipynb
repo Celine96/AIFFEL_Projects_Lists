{
  "nbformat": 4,
  "nbformat_minor": 0,
  "metadata": {
    "colab": {
      "provenance": [],
      "collapsed_sections": [
        "cCKQwbgbPKmQ",
        "NvnjxeWIXIbk",
        "54GSBq2uPZ7y"
      ]
    },
    "kernelspec": {
      "name": "python3",
      "display_name": "Python 3"
    },
    "language_info": {
      "name": "python"
    }
  },
  "cells": [
    {
      "cell_type": "markdown",
      "source": [
        "## 1-2 개발환경 중 하나인 우분투에 대해 검색해보자\n",
        "우분투란?\n",
        "\n",
        "인공지능 연구개발을 위해 주로 사용하는 운영체제는 바로 우분투(Ubuntu)입니다. \n",
        "\n",
        "우분투는 리눅스(Linux) 배포판의 한 종류인데, 구글을 비롯한 수많은 회사에서 표준 배포환경으로 사용하고 있고 많은 개발자들이 애용하고 있어서 우리가 앞으로 사용하게 될 텐서플로우(Tensorflow) 등 머신러닝 라이브러리들이 가장 안정적으로 구동되는 환경이기도 합니다. \n",
        "\n",
        "\n",
        "리눅수는 리눅스 커널을 기반으로 구축된 무료 오픈 소스 소프트웨어 운영 체제 제품군이다. 우분투는 데비안 기반의 무료 오픈 소스 운영 체제 및 리눅스 배포판이다.\n",
        "리눅스가 핵심 운영 체제이고, 우분투는 리눅스 배포본인 운영체제이다.\n",
        "Linus Torvalds는 Linux의 초기 개발자였다. Linux 커뮤니티는 OS 개발을 지원할 수 있다. Canonical Ltd는 우분투를 개발했으며 우분투 공동체는 개발을 지원할 수 있다.\n",
        "\n",
        "\n",
        "## 1-3 cloud shell과 cloud jupyter \n",
        "shell = 터미널 (cmd창?)\n",
        "커널과 인터페이스가 되는거?\n",
        "\n",
        "중요한건 커널에 명령어를 입력하면 동작이 실행된다\n",
        "\n"
      ],
      "metadata": {
        "id": "X4rEiQT5KXlt"
      }
    },
    {
      "cell_type": "markdown",
      "source": [
        "# 코딩도장 \n",
        "\n",
        "## 10.2 리스트/튜플 unpacking에 대해 설명할 수 있다. \n",
        "\n",
        "- 자료형; 리스트와 튜플\n",
        "\n",
        "- 리스트 패킹(list packing)과 튜플 패킹(tuple packing)은 변수에 리스트 또는 튜플을 할당하는 과정\n",
        "- 리스트와 튜플의 요소를 변수 여러 개에 할당하는 것을 리스트 언패킹(list unpacking), 튜플 언패킹(tuple unpacking)"
      ],
      "metadata": {
        "id": "Vw_MRWnBEDuF"
      }
    },
    {
      "cell_type": "code",
      "execution_count": null,
      "metadata": {
        "id": "e_9vk1GFH7gF",
        "colab": {
          "base_uri": "https://localhost:8080/"
        },
        "outputId": "52f0c289-fb76-40a4-c081-53ccf24b9394"
      },
      "outputs": [
        {
          "output_type": "stream",
          "name": "stdout",
          "text": [
            "james 17 175.3 True\n",
            "<class 'str'>\n",
            "Celine 57 145.3 True\n",
            "<class 'str'>\n"
          ]
        }
      ],
      "source": [
        "#list 대괄호\n",
        "person1 = ['james', 17, 175.3, True]\n",
        "\n",
        "a,b,c,d = person1\n",
        "print(a,b,c,d)\n",
        "print(type(a))\n",
        "\n",
        "#tuple 괄호\n",
        "person2 = ('Celine', 57, 145.3, True)\n",
        "e,f,g,h = person2\n",
        "print(e,f,g,h)\n",
        "print(type(e))"
      ]
    },
    {
      "cell_type": "markdown",
      "source": [
        "## 11.1 시퀀스 자료형의 공통 기능에 대해 설명할 수 있다. \n",
        "\n",
        "- 우리가 기본적으로 익숙한 자료형 (리스트, 튜플, range, 문자열) 모두 시퀀스(연속적이다) 자료형이다.bytes, bytearray 도 존재 "
      ],
      "metadata": {
        "id": "dd20wn5ZFxET"
      }
    },
    {
      "cell_type": "code",
      "source": [
        "# # 11.1.1 특정값이 있는지 확인하기 (리스트, 튜플, range, 문자열)\n",
        "# ## 값 in 시퀀스 객체\n",
        "# a = [0, 10, 20, 30, 40, 50, 60, 70, 80, 90]\n",
        "# print(30 in a)\n",
        "\n",
        "# ## 값 not in 시퀀스 객체\n",
        "# a = [0, 10, 20, 30, 40, 50, 60, 70, 80, 90]\n",
        "# print(100 not in a)\n",
        "\n",
        "\n",
        "# # 11.1.2  시퀀스 객체 연결하기\n",
        "# ## 다만 range는 튜플을 이용해서 연결, 같은 자료형끼리의 연산만 가능\n",
        "# a = [0, 10, 20, 30]\n",
        "# b = [9, 8, 7, 6]\n",
        "# print(a + b)\n",
        "\n",
        "# print('Hello, ' + 'world!')\n",
        "\n",
        "\n",
        "# 11.1.3  시퀀스 객체 반복하기\n",
        "print([0, 10, 20, 30] * 3)\n",
        "print('Hello, ' * 3)\n",
        "#list(range(0, 5, 2)) * 3\n",
        "print(tuple(range(0, 5, 2)) * 3)"
      ],
      "metadata": {
        "colab": {
          "base_uri": "https://localhost:8080/"
        },
        "id": "qQV373E5GZZV",
        "outputId": "7f64ce1a-9be8-471e-d458-34458c46203f"
      },
      "execution_count": null,
      "outputs": [
        {
          "output_type": "stream",
          "name": "stdout",
          "text": [
            "[0, 10, 20, 30, 0, 10, 20, 30, 0, 10, 20, 30]\n",
            "Hello, Hello, Hello, \n",
            "(0, 2, 4, 0, 2, 4, 0, 2, 4)\n"
          ]
        }
      ]
    },
    {
      "cell_type": "markdown",
      "source": [
        "## 11.2 시퀀스 객체의 요소 개수를 구할 수 있다. \n",
        "- 길이(=element의 갯수)를 구하는 `len()`을 활용한다"
      ],
      "metadata": {
        "id": "y7PGB1IyH0HF"
      }
    },
    {
      "cell_type": "code",
      "source": [
        "#리스트\n",
        "a = [0, 10, 20, 30, 40, 50, 60, 70, 80, 90]\n",
        "print(len(a))\n",
        "#튜플\n",
        "b = (38, 76, 43, 62, 19)\n",
        "print(len(b))\n",
        "#range\n",
        "print(len(range(0, 10, 2))) #0,2,4,6,8\n",
        "#문자열 (공백 포함)\n",
        "hello = 'Hello, world!'\n",
        "len(hello)\n",
        "\n",
        "#문자열의 바이트 수 \n",
        "# utf-8 인코딩으로 (바이트 수를) 저장\n",
        "hello = '안녕하세요'\n",
        "len(hello.encode('utf-8'))"
      ],
      "metadata": {
        "colab": {
          "base_uri": "https://localhost:8080/"
        },
        "id": "4hvOBxuyICMo",
        "outputId": "115c3316-fae1-4879-a87e-2aacafddabaa"
      },
      "execution_count": null,
      "outputs": [
        {
          "output_type": "stream",
          "name": "stdout",
          "text": [
            "10\n",
            "5\n",
            "5\n"
          ]
        },
        {
          "output_type": "execute_result",
          "data": {
            "text/plain": [
              "15"
            ]
          },
          "metadata": {},
          "execution_count": 13
        }
      ]
    },
    {
      "cell_type": "markdown",
      "source": [
        "## 11.4 인덱스를 활용한 슬라이스의 사용법을 설명할 수 있다.\n",
        "\n"
      ],
      "metadata": {
        "id": "GgZserrZKIex"
      }
    },
    {
      "cell_type": "code",
      "source": [
        "#인덱스\n",
        "a = [38, 21, 53, 62, 19]\n",
        "b = (38, 21, 53, 62, 19)\n",
        "print(a[0],b[0]) #0부터 시작\n",
        "print(a[-1],b[-1]) #음수는 -1부터 "
      ],
      "metadata": {
        "colab": {
          "base_uri": "https://localhost:8080/"
        },
        "id": "wSKxkiFIKPd2",
        "outputId": "b35a2f2d-9f8a-4843-bef1-e417317ee08c"
      },
      "execution_count": null,
      "outputs": [
        {
          "output_type": "stream",
          "name": "stdout",
          "text": [
            "38 38\n",
            "19 19\n"
          ]
        }
      ]
    },
    {
      "cell_type": "code",
      "source": [
        "#슬라이싱\n",
        "#range와 마찬가지로 마지막 인덱스는 노카운트\n",
        "a = [0, 10, 20, 30, 40, 50, 60, 70, 80, 90]\n",
        "print(a[4:7]) \n",
        "\n",
        "#증가폭 설정 가능\n",
        "print(a[2:8:3]) #2,5 \n",
        "\n",
        "#전체\n",
        "print(a[:])\n",
        "print(a[7:])\n",
        "\n",
        "#음수 = 방향\n",
        "print(a[7::-1])\n",
        "\n",
        "#element 추가\n",
        "a[2:5] = ['a'] \n",
        "\n",
        "#elemet 삭제\n",
        "del a[2:5] \n",
        "print(a)"
      ],
      "metadata": {
        "colab": {
          "base_uri": "https://localhost:8080/"
        },
        "id": "G2bvksJmLdCr",
        "outputId": "e4679b38-79d6-4a8c-dcb2-ea18d50cd868"
      },
      "execution_count": null,
      "outputs": [
        {
          "output_type": "stream",
          "name": "stdout",
          "text": [
            "[40, 50, 60]\n",
            "[20, 50]\n",
            "[0, 10, 20, 30, 40, 50, 60, 70, 80, 90]\n",
            "[70, 80, 90]\n",
            "[70, 60, 50, 40, 30, 20, 10, 0]\n",
            "[0, 10, 70, 80, 90]\n"
          ]
        }
      ]
    },
    {
      "cell_type": "markdown",
      "source": [
        "## 12.2.1 딕셔너리 키에 접근하고 값을 할달하는 방법 "
      ],
      "metadata": {
        "id": "bp6egoHyGTLp"
      }
    },
    {
      "cell_type": "code",
      "source": [
        "user1 = { \"name\": \"이수연\", \"email\": \"yololife.sy@gmail.com\", \"gender\": \"female\" }\n",
        "user1"
      ],
      "metadata": {
        "colab": {
          "base_uri": "https://localhost:8080/"
        },
        "id": "TKjAo4DVH712",
        "outputId": "38f1adb8-291e-4708-8d74-55e7fe66a8f3"
      },
      "execution_count": null,
      "outputs": [
        {
          "output_type": "execute_result",
          "data": {
            "text/plain": [
              "{'name': '이수연', 'email': 'yololife.sy@gmail.com', 'gender': 'female'}"
            ]
          },
          "metadata": {},
          "execution_count": 46
        }
      ]
    },
    {
      "cell_type": "code",
      "source": [
        "dict() #{} 빈 딕셔너리 "
      ],
      "metadata": {
        "colab": {
          "base_uri": "https://localhost:8080/"
        },
        "id": "elr97Qt8Hff3",
        "outputId": "e55eea32-cb72-4ef7-9ab2-7521fd966654"
      },
      "execution_count": null,
      "outputs": [
        {
          "output_type": "execute_result",
          "data": {
            "text/plain": [
              "{}"
            ]
          },
          "metadata": {},
          "execution_count": 47
        }
      ]
    },
    {
      "cell_type": "code",
      "source": [
        "#데이터 추가\n",
        "user1['mbti']= \"ESTJ/ENTP\"\n",
        "user1"
      ],
      "metadata": {
        "colab": {
          "base_uri": "https://localhost:8080/"
        },
        "id": "MwQcaT45ISRf",
        "outputId": "3b29dd00-195c-4794-d3ce-fef64f6cdf25"
      },
      "execution_count": null,
      "outputs": [
        {
          "output_type": "execute_result",
          "data": {
            "text/plain": [
              "{'name': '이수연',\n",
              " 'email': 'yololife.sy@gmail.com',\n",
              " 'gender': 'female',\n",
              " 'mbti': 'ESTJ/ENTP'}"
            ]
          },
          "metadata": {},
          "execution_count": 48
        }
      ]
    },
    {
      "cell_type": "code",
      "source": [
        "user1['mbti']='ENTP'"
      ],
      "metadata": {
        "id": "x-jjSvhpLuSz"
      },
      "execution_count": null,
      "outputs": []
    },
    {
      "cell_type": "code",
      "source": [
        "user1"
      ],
      "metadata": {
        "colab": {
          "base_uri": "https://localhost:8080/"
        },
        "id": "yxnxsh4SLzhz",
        "outputId": "763f4e94-f215-43e3-ae2d-ea459b7f6d67"
      },
      "execution_count": null,
      "outputs": [
        {
          "output_type": "execute_result",
          "data": {
            "text/plain": [
              "{'name': '이수연',\n",
              " 'email': 'yololife.sy@gmail.com',\n",
              " 'gender': 'female',\n",
              " 'mbti': 'ENTP'}"
            ]
          },
          "metadata": {},
          "execution_count": 50
        }
      ]
    },
    {
      "cell_type": "code",
      "source": [
        "#value 접근 : dictionary[키]\n",
        "user1['email']"
      ],
      "metadata": {
        "colab": {
          "base_uri": "https://localhost:8080/",
          "height": 35
        },
        "id": "nD6CekibIhGr",
        "outputId": "62e66f9c-4200-4f49-c296-0834d084324f"
      },
      "execution_count": null,
      "outputs": [
        {
          "output_type": "execute_result",
          "data": {
            "text/plain": [
              "'yololife.sy@gmail.com'"
            ],
            "application/vnd.google.colaboratory.intrinsic+json": {
              "type": "string"
            }
          },
          "metadata": {},
          "execution_count": 51
        }
      ]
    },
    {
      "cell_type": "code",
      "source": [
        "user1['mail'] #존재하지 않는 키에 대해서는 에러"
      ],
      "metadata": {
        "colab": {
          "base_uri": "https://localhost:8080/",
          "height": 174
        },
        "id": "eblqAylTIwCC",
        "outputId": "8dd2d685-ae1a-4225-de51-85c8699adc81"
      },
      "execution_count": null,
      "outputs": [
        {
          "output_type": "error",
          "ename": "KeyError",
          "evalue": "ignored",
          "traceback": [
            "\u001b[0;31m---------------------------------------------------------------------------\u001b[0m",
            "\u001b[0;31mKeyError\u001b[0m                                  Traceback (most recent call last)",
            "\u001b[0;32m<ipython-input-54-b21a776c8bb2>\u001b[0m in \u001b[0;36m<module>\u001b[0;34m\u001b[0m\n\u001b[0;32m----> 1\u001b[0;31m \u001b[0muser1\u001b[0m\u001b[0;34m[\u001b[0m\u001b[0;34m'mail'\u001b[0m\u001b[0;34m]\u001b[0m \u001b[0;31m#존재하지 않는 키에 대해서는 에러\u001b[0m\u001b[0;34m\u001b[0m\u001b[0;34m\u001b[0m\u001b[0m\n\u001b[0m",
            "\u001b[0;31mKeyError\u001b[0m: 'mail'"
          ]
        }
      ]
    },
    {
      "cell_type": "markdown",
      "source": [
        "get 메서드 말고 다른 방법은\n",
        "\n",
        "setdefault 를 쓰셔도 된다고 알고있어요\n",
        "\n",
        "setdefault\n",
        "\n",
        "딕셔너리를 잘 배워두면\n",
        "\n",
        "나중에\n",
        "\n",
        "https://corpus.korean.go.kr/\n",
        "\n",
        "이런 데이터셋을 전처리할때\n",
        "\n",
        "활용하실수있습니당"
      ],
      "metadata": {
        "id": "78BMY_pGgrdy"
      }
    },
    {
      "cell_type": "code",
      "source": [
        "user1.get(\"아무키\", \"none\") #default 값 생성 가능 "
      ],
      "metadata": {
        "colab": {
          "base_uri": "https://localhost:8080/",
          "height": 35
        },
        "id": "_yP6jl4LI8Mq",
        "outputId": "67c2e2f3-37c2-4799-a5e1-67a55ee7bc86"
      },
      "execution_count": null,
      "outputs": [
        {
          "output_type": "execute_result",
          "data": {
            "text/plain": [
              "'none'"
            ],
            "application/vnd.google.colaboratory.intrinsic+json": {
              "type": "string"
            }
          },
          "metadata": {},
          "execution_count": 58
        }
      ]
    },
    {
      "cell_type": "code",
      "source": [
        "#데이터 없데이트\n",
        "user1['name']='Celine'\n",
        "user1"
      ],
      "metadata": {
        "colab": {
          "base_uri": "https://localhost:8080/"
        },
        "id": "RgxaL6aIJHIJ",
        "outputId": "9fcc3da1-12c0-4cd5-c254-4c046154f6cb"
      },
      "execution_count": null,
      "outputs": [
        {
          "output_type": "execute_result",
          "data": {
            "text/plain": [
              "{'name': 'Celine',\n",
              " 'email': 'yololife.sy@gmail.com',\n",
              " 'gender': 'female',\n",
              " 'mbti': 'ENTP'}"
            ]
          },
          "metadata": {},
          "execution_count": 60
        }
      ]
    },
    {
      "cell_type": "code",
      "source": [
        "#해당키가 존재하는지 확인\n",
        "'name' in user1 #키"
      ],
      "metadata": {
        "colab": {
          "base_uri": "https://localhost:8080/"
        },
        "id": "DiZJtScPLXhO",
        "outputId": "16475965-932e-458d-91ae-3d3c45f02f17"
      },
      "execution_count": null,
      "outputs": [
        {
          "output_type": "execute_result",
          "data": {
            "text/plain": [
              "True"
            ]
          },
          "metadata": {},
          "execution_count": 61
        }
      ]
    },
    {
      "cell_type": "code",
      "source": [
        "#Q. value는 어떻게 접근? \n",
        "'Celine' in user1"
      ],
      "metadata": {
        "colab": {
          "base_uri": "https://localhost:8080/"
        },
        "id": "80D4nPxpLR9b",
        "outputId": "c0973cb1-3311-44f7-da5d-108a80ad55f5"
      },
      "execution_count": null,
      "outputs": [
        {
          "output_type": "execute_result",
          "data": {
            "text/plain": [
              "False"
            ]
          },
          "metadata": {},
          "execution_count": 62
        }
      ]
    },
    {
      "cell_type": "code",
      "source": [
        "#A. value를 리스트로 만들자\n",
        "'Celine' in list(user1.values())"
      ],
      "metadata": {
        "colab": {
          "base_uri": "https://localhost:8080/"
        },
        "id": "20LpOmswOmnn",
        "outputId": "d4c4fd9a-5c04-4321-94c0-46a4a4a7ebfc"
      },
      "execution_count": null,
      "outputs": [
        {
          "output_type": "execute_result",
          "data": {
            "text/plain": [
              "True"
            ]
          },
          "metadata": {},
          "execution_count": 64
        }
      ]
    },
    {
      "cell_type": "code",
      "source": [
        "list(user1.values())"
      ],
      "metadata": {
        "colab": {
          "base_uri": "https://localhost:8080/"
        },
        "id": "AYQVHRCeZSXK",
        "outputId": "b084acb4-3354-4efd-92b7-7ed6e755a7fa"
      },
      "execution_count": null,
      "outputs": [
        {
          "output_type": "execute_result",
          "data": {
            "text/plain": [
              "['Celine', 'yololife.sy@gmail.com', 'female', 'ENTP']"
            ]
          },
          "metadata": {},
          "execution_count": 63
        }
      ]
    },
    {
      "cell_type": "code",
      "source": [
        "type(user1.values())"
      ],
      "metadata": {
        "colab": {
          "base_uri": "https://localhost:8080/"
        },
        "id": "e_ONE6KxZZEs",
        "outputId": "3fbfe50a-d639-496f-b8f3-bcb78420dd57"
      },
      "execution_count": null,
      "outputs": [
        {
          "output_type": "execute_result",
          "data": {
            "text/plain": [
              "dict_values"
            ]
          },
          "metadata": {},
          "execution_count": 65
        }
      ]
    },
    {
      "cell_type": "markdown",
      "source": [
        "## dictionary 병합"
      ],
      "metadata": {
        "id": "B61GqJeANbl0"
      }
    },
    {
      "cell_type": "code",
      "source": [
        "dic1 = {\"A\": 1, \"B\": 2}\n",
        "dic2 = {\"B\": 3, \"C\": 4}"
      ],
      "metadata": {
        "id": "5QiJdN8lNebG"
      },
      "execution_count": null,
      "outputs": []
    },
    {
      "cell_type": "code",
      "source": [
        "dic1+dic2"
      ],
      "metadata": {
        "colab": {
          "base_uri": "https://localhost:8080/",
          "height": 174
        },
        "id": "f6CMTPRtNQaB",
        "outputId": "734a4912-bab5-4d63-a67d-c90e6a14c05d"
      },
      "execution_count": null,
      "outputs": [
        {
          "output_type": "error",
          "ename": "TypeError",
          "evalue": "ignored",
          "traceback": [
            "\u001b[0;31m---------------------------------------------------------------------------\u001b[0m",
            "\u001b[0;31mTypeError\u001b[0m                                 Traceback (most recent call last)",
            "\u001b[0;32m<ipython-input-67-25a398236827>\u001b[0m in \u001b[0;36m<module>\u001b[0;34m\u001b[0m\n\u001b[0;32m----> 1\u001b[0;31m \u001b[0mdic1\u001b[0m\u001b[0;34m+\u001b[0m\u001b[0mdic2\u001b[0m\u001b[0;34m\u001b[0m\u001b[0;34m\u001b[0m\u001b[0m\n\u001b[0m",
            "\u001b[0;31mTypeError\u001b[0m: unsupported operand type(s) for +: 'dict' and 'dict'"
          ]
        }
      ]
    },
    {
      "cell_type": "code",
      "source": [
        "# Python 3.9 버전에서 사전에 추가된 | 연산자를 활용해서 같은 효과를 낼 수도 있습니다.\n",
        "#{'A': 1, 'B': 3, 'C': 4}\n",
        "dic1 |= dic2 "
      ],
      "metadata": {
        "colab": {
          "base_uri": "https://localhost:8080/",
          "height": 211
        },
        "id": "Wg4VA39qNa99",
        "outputId": "84e85d22-e8f4-491d-8f35-51a688e99660"
      },
      "execution_count": null,
      "outputs": [
        {
          "output_type": "error",
          "ename": "TypeError",
          "evalue": "ignored",
          "traceback": [
            "\u001b[0;31m---------------------------------------------------------------------------\u001b[0m",
            "\u001b[0;31mTypeError\u001b[0m                                 Traceback (most recent call last)",
            "\u001b[0;32m<ipython-input-68-8beb71315449>\u001b[0m in \u001b[0;36m<module>\u001b[0;34m\u001b[0m\n\u001b[1;32m      1\u001b[0m \u001b[0;31m# Python 3.9 버전에서 사전에 추가된 | 연산자를 활용해서 같은 효과를 낼 수도 있습니다.\u001b[0m\u001b[0;34m\u001b[0m\u001b[0;34m\u001b[0m\u001b[0;34m\u001b[0m\u001b[0m\n\u001b[1;32m      2\u001b[0m \u001b[0;31m#{'A': 1, 'B': 3, 'C': 4}\u001b[0m\u001b[0;34m\u001b[0m\u001b[0;34m\u001b[0m\u001b[0;34m\u001b[0m\u001b[0m\n\u001b[0;32m----> 3\u001b[0;31m \u001b[0mdic1\u001b[0m \u001b[0;34m|=\u001b[0m \u001b[0mdic2\u001b[0m\u001b[0;34m\u001b[0m\u001b[0;34m\u001b[0m\u001b[0m\n\u001b[0m",
            "\u001b[0;31mTypeError\u001b[0m: unsupported operand type(s) for |=: 'dict' and 'dict'"
          ]
        }
      ]
    },
    {
      "cell_type": "code",
      "source": [
        "import sys \n",
        "print(sys.version)"
      ],
      "metadata": {
        "colab": {
          "base_uri": "https://localhost:8080/"
        },
        "id": "Mclq5BAuNqjz",
        "outputId": "aecb2410-0a36-40cd-b905-9adf9b640883"
      },
      "execution_count": null,
      "outputs": [
        {
          "output_type": "stream",
          "name": "stdout",
          "text": [
            "3.7.15 (default, Oct 12 2022, 19:14:55) \n",
            "[GCC 7.5.0]\n"
          ]
        }
      ]
    },
    {
      "cell_type": "markdown",
      "source": [
        "## 12.2.2 dictionary가 활용될 수 있는 예\n",
        "\n",
        "#### 루프문 "
      ],
      "metadata": {
        "id": "h3mQ9hT7JxH5"
      }
    },
    {
      "cell_type": "code",
      "source": [
        "users = {'name': ['Celine', 'Mark'], 'email': ['yololife.sy@gmail.com','test@gmail.com'], 'gender': ['female', 'male']}"
      ],
      "metadata": {
        "id": "EKlDZTEGKS5j"
      },
      "execution_count": null,
      "outputs": []
    },
    {
      "cell_type": "code",
      "source": [
        "#키와 값을 터플의 형태로 한 번에 얻을 수 있어서 좀 더 깔끔하게 루프문 작\n",
        "users.items()"
      ],
      "metadata": {
        "colab": {
          "base_uri": "https://localhost:8080/"
        },
        "id": "-5yFg2YmKnyM",
        "outputId": "9e17a1b3-ca8f-4ea1-82b6-c9c345b9b9ce"
      },
      "execution_count": null,
      "outputs": [
        {
          "output_type": "execute_result",
          "data": {
            "text/plain": [
              "dict_items([('name', ['Celine', 'Mark']), ('email', ['yololife.sy@gmail.com', 'test@gmail.com']), ('gender', ['female', 'male'])])"
            ]
          },
          "metadata": {},
          "execution_count": 71
        }
      ]
    },
    {
      "cell_type": "code",
      "source": [
        "for key, value in users.items():\n",
        "  print(f\"{key}: {value}\")"
      ],
      "metadata": {
        "colab": {
          "base_uri": "https://localhost:8080/"
        },
        "id": "DfAJj9Z-NFPw",
        "outputId": "e33a8b6d-579d-44f5-bf49-3d555a6441f5"
      },
      "execution_count": null,
      "outputs": [
        {
          "output_type": "stream",
          "name": "stdout",
          "text": [
            "name: ['Celine', 'Mark']\n",
            "email: ['yololife.sy@gmail.com', 'test@gmail.com']\n",
            "gender: ['female', 'male']\n"
          ]
        }
      ]
    },
    {
      "cell_type": "markdown",
      "source": [
        "#### dictionary -> dataframe"
      ],
      "metadata": {
        "id": "cCKQwbgbPKmQ"
      }
    },
    {
      "cell_type": "code",
      "source": [
        "import pandas as pd \n",
        "\n",
        "pd.DataFrame.from_dict(users)"
      ],
      "metadata": {
        "colab": {
          "base_uri": "https://localhost:8080/",
          "height": 112
        },
        "id": "VNKBwKqXJ3HI",
        "outputId": "14a6bcd2-6fd3-4c8c-a245-3a8aa6db8619"
      },
      "execution_count": null,
      "outputs": [
        {
          "output_type": "execute_result",
          "data": {
            "text/plain": [
              "     name                  email  gender\n",
              "0  Celine  yololife.sy@gmail.com  female\n",
              "1    Mark         test@gmail.com    male"
            ],
            "text/html": [
              "\n",
              "  <div id=\"df-22339961-9cab-403e-8b6e-1e83a0b437a1\">\n",
              "    <div class=\"colab-df-container\">\n",
              "      <div>\n",
              "<style scoped>\n",
              "    .dataframe tbody tr th:only-of-type {\n",
              "        vertical-align: middle;\n",
              "    }\n",
              "\n",
              "    .dataframe tbody tr th {\n",
              "        vertical-align: top;\n",
              "    }\n",
              "\n",
              "    .dataframe thead th {\n",
              "        text-align: right;\n",
              "    }\n",
              "</style>\n",
              "<table border=\"1\" class=\"dataframe\">\n",
              "  <thead>\n",
              "    <tr style=\"text-align: right;\">\n",
              "      <th></th>\n",
              "      <th>name</th>\n",
              "      <th>email</th>\n",
              "      <th>gender</th>\n",
              "    </tr>\n",
              "  </thead>\n",
              "  <tbody>\n",
              "    <tr>\n",
              "      <th>0</th>\n",
              "      <td>Celine</td>\n",
              "      <td>yololife.sy@gmail.com</td>\n",
              "      <td>female</td>\n",
              "    </tr>\n",
              "    <tr>\n",
              "      <th>1</th>\n",
              "      <td>Mark</td>\n",
              "      <td>test@gmail.com</td>\n",
              "      <td>male</td>\n",
              "    </tr>\n",
              "  </tbody>\n",
              "</table>\n",
              "</div>\n",
              "      <button class=\"colab-df-convert\" onclick=\"convertToInteractive('df-22339961-9cab-403e-8b6e-1e83a0b437a1')\"\n",
              "              title=\"Convert this dataframe to an interactive table.\"\n",
              "              style=\"display:none;\">\n",
              "        \n",
              "  <svg xmlns=\"http://www.w3.org/2000/svg\" height=\"24px\"viewBox=\"0 0 24 24\"\n",
              "       width=\"24px\">\n",
              "    <path d=\"M0 0h24v24H0V0z\" fill=\"none\"/>\n",
              "    <path d=\"M18.56 5.44l.94 2.06.94-2.06 2.06-.94-2.06-.94-.94-2.06-.94 2.06-2.06.94zm-11 1L8.5 8.5l.94-2.06 2.06-.94-2.06-.94L8.5 2.5l-.94 2.06-2.06.94zm10 10l.94 2.06.94-2.06 2.06-.94-2.06-.94-.94-2.06-.94 2.06-2.06.94z\"/><path d=\"M17.41 7.96l-1.37-1.37c-.4-.4-.92-.59-1.43-.59-.52 0-1.04.2-1.43.59L10.3 9.45l-7.72 7.72c-.78.78-.78 2.05 0 2.83L4 21.41c.39.39.9.59 1.41.59.51 0 1.02-.2 1.41-.59l7.78-7.78 2.81-2.81c.8-.78.8-2.07 0-2.86zM5.41 20L4 18.59l7.72-7.72 1.47 1.35L5.41 20z\"/>\n",
              "  </svg>\n",
              "      </button>\n",
              "      \n",
              "  <style>\n",
              "    .colab-df-container {\n",
              "      display:flex;\n",
              "      flex-wrap:wrap;\n",
              "      gap: 12px;\n",
              "    }\n",
              "\n",
              "    .colab-df-convert {\n",
              "      background-color: #E8F0FE;\n",
              "      border: none;\n",
              "      border-radius: 50%;\n",
              "      cursor: pointer;\n",
              "      display: none;\n",
              "      fill: #1967D2;\n",
              "      height: 32px;\n",
              "      padding: 0 0 0 0;\n",
              "      width: 32px;\n",
              "    }\n",
              "\n",
              "    .colab-df-convert:hover {\n",
              "      background-color: #E2EBFA;\n",
              "      box-shadow: 0px 1px 2px rgba(60, 64, 67, 0.3), 0px 1px 3px 1px rgba(60, 64, 67, 0.15);\n",
              "      fill: #174EA6;\n",
              "    }\n",
              "\n",
              "    [theme=dark] .colab-df-convert {\n",
              "      background-color: #3B4455;\n",
              "      fill: #D2E3FC;\n",
              "    }\n",
              "\n",
              "    [theme=dark] .colab-df-convert:hover {\n",
              "      background-color: #434B5C;\n",
              "      box-shadow: 0px 1px 3px 1px rgba(0, 0, 0, 0.15);\n",
              "      filter: drop-shadow(0px 1px 2px rgba(0, 0, 0, 0.3));\n",
              "      fill: #FFFFFF;\n",
              "    }\n",
              "  </style>\n",
              "\n",
              "      <script>\n",
              "        const buttonEl =\n",
              "          document.querySelector('#df-22339961-9cab-403e-8b6e-1e83a0b437a1 button.colab-df-convert');\n",
              "        buttonEl.style.display =\n",
              "          google.colab.kernel.accessAllowed ? 'block' : 'none';\n",
              "\n",
              "        async function convertToInteractive(key) {\n",
              "          const element = document.querySelector('#df-22339961-9cab-403e-8b6e-1e83a0b437a1');\n",
              "          const dataTable =\n",
              "            await google.colab.kernel.invokeFunction('convertToInteractive',\n",
              "                                                     [key], {});\n",
              "          if (!dataTable) return;\n",
              "\n",
              "          const docLinkHtml = 'Like what you see? Visit the ' +\n",
              "            '<a target=\"_blank\" href=https://colab.research.google.com/notebooks/data_table.ipynb>data table notebook</a>'\n",
              "            + ' to learn more about interactive tables.';\n",
              "          element.innerHTML = '';\n",
              "          dataTable['output_type'] = 'display_data';\n",
              "          await google.colab.output.renderOutput(dataTable, element);\n",
              "          const docLink = document.createElement('div');\n",
              "          docLink.innerHTML = docLinkHtml;\n",
              "          element.appendChild(docLink);\n",
              "        }\n",
              "      </script>\n",
              "    </div>\n",
              "  </div>\n",
              "  "
            ]
          },
          "metadata": {},
          "execution_count": 72
        }
      ]
    },
    {
      "cell_type": "markdown",
      "source": [
        "## 12.2.3 key:value 시스템의 처리속도가 빠른 이유?\n",
        "\n",
        "선형적(차례대로)으로 찾지 않고 키로 바로 value를 찾을 수 있기때문에 처리 속도가 빠르다. \n",
        "\n",
        "- https://www.youtube.com/watch?v=HraOg7W3VAM\n"
      ],
      "metadata": {
        "id": "I8SR1lf2Qrtg"
      }
    },
    {
      "cell_type": "code",
      "source": [
        "### 14.3/14.4 중첩 if 조건문의 실행순서를 설명할 수 있다. \n",
        "#### indent 따라 if-elif-else 순서대로 따라감\n",
        "\n",
        "- visualization : https://pythontutor.com/render.html#mode=display"
      ],
      "metadata": {
        "id": "aKi3p5GiRNzX"
      },
      "execution_count": null,
      "outputs": []
    },
    {
      "cell_type": "code",
      "source": [
        "x = int(input())\n",
        "\n",
        "if x >= 10:\n",
        "    print('10 이상입니다.')\n",
        " \n",
        "    if x == 15:\n",
        "        print('15입니다.')\n",
        " \n",
        "    if x == 20:\n",
        "        print('20입니다.') \n",
        " "
      ],
      "metadata": {
        "colab": {
          "base_uri": "https://localhost:8080/"
        },
        "id": "swEnJ79OTeH5",
        "outputId": "535ec455-fdcf-4a03-dc60-8d3df8d1be13"
      },
      "execution_count": null,
      "outputs": [
        {
          "output_type": "stream",
          "name": "stdout",
          "text": [
            "22\n",
            "10 이상입니다.\n"
          ]
        }
      ]
    },
    {
      "cell_type": "markdown",
      "source": [
        "### 15.1 음료수 자판기 예시를 효율적인 조건문 코드로 변경해라\n",
        "\n",
        "\n",
        "\n",
        "```\n",
        "if 콜라 버튼을 눌렀다면:\n",
        "    콜라를 내보냄\n",
        "elif 사이다 버튼을 눌렀다면:\n",
        "    사이다를 내보냄\n",
        "elif 환타 버튼을 눌렀다면:\n",
        "    환타를 내보냄:\n",
        "else:\n",
        "    제공하지 않는 메뉴\n",
        "```\n",
        "\n",
        "\n",
        "for : 반복가능한(iterable) 요소들을 뽑아서 출력하는 함수\n",
        "조ㅑㅣㄷ \n"
      ],
      "metadata": {
        "id": "NvnjxeWIXIbk"
      }
    },
    {
      "cell_type": "code",
      "source": [
        "a = range(100)\n",
        "type(a)\n",
        "dir(a) #__iter__ 객체 "
      ],
      "metadata": {
        "colab": {
          "base_uri": "https://localhost:8080/"
        },
        "id": "3AUEWzRFhzwt",
        "outputId": "763968f2-f8b0-48b2-fbd3-b53d77b90c86"
      },
      "execution_count": null,
      "outputs": [
        {
          "output_type": "execute_result",
          "data": {
            "text/plain": [
              "['__bool__',\n",
              " '__class__',\n",
              " '__contains__',\n",
              " '__delattr__',\n",
              " '__dir__',\n",
              " '__doc__',\n",
              " '__eq__',\n",
              " '__format__',\n",
              " '__ge__',\n",
              " '__getattribute__',\n",
              " '__getitem__',\n",
              " '__gt__',\n",
              " '__hash__',\n",
              " '__init__',\n",
              " '__init_subclass__',\n",
              " '__iter__',\n",
              " '__le__',\n",
              " '__len__',\n",
              " '__lt__',\n",
              " '__ne__',\n",
              " '__new__',\n",
              " '__reduce__',\n",
              " '__reduce_ex__',\n",
              " '__repr__',\n",
              " '__reversed__',\n",
              " '__setattr__',\n",
              " '__sizeof__',\n",
              " '__str__',\n",
              " '__subclasshook__',\n",
              " 'count',\n",
              " 'index',\n",
              " 'start',\n",
              " 'step',\n",
              " 'stop']"
            ]
          },
          "metadata": {},
          "execution_count": 73
        }
      ]
    },
    {
      "cell_type": "code",
      "source": [
        "a"
      ],
      "metadata": {
        "colab": {
          "base_uri": "https://localhost:8080/"
        },
        "id": "k_Qxf0Juijse",
        "outputId": "9de49b38-9792-4df2-ac56-94d24654e604"
      },
      "execution_count": null,
      "outputs": [
        {
          "output_type": "execute_result",
          "data": {
            "text/plain": [
              "range(0, 100)"
            ]
          },
          "metadata": {},
          "execution_count": 80
        }
      ]
    },
    {
      "cell_type": "code",
      "source": [
        "x = [1,2,3]\n",
        "y=iter(x) #iterator로 만들어준 상태"
      ],
      "metadata": {
        "id": "ry_HKF3siF49"
      },
      "execution_count": null,
      "outputs": []
    },
    {
      "cell_type": "code",
      "source": [
        "dir(x) #iterable 하다 판단 가능 init, len "
      ],
      "metadata": {
        "colab": {
          "base_uri": "https://localhost:8080/"
        },
        "id": "kxvWrcNGiszd",
        "outputId": "5f865ffa-c354-41f2-c041-789d15551ca8"
      },
      "execution_count": null,
      "outputs": [
        {
          "output_type": "execute_result",
          "data": {
            "text/plain": [
              "['__add__',\n",
              " '__class__',\n",
              " '__contains__',\n",
              " '__delattr__',\n",
              " '__delitem__',\n",
              " '__dir__',\n",
              " '__doc__',\n",
              " '__eq__',\n",
              " '__format__',\n",
              " '__ge__',\n",
              " '__getattribute__',\n",
              " '__getitem__',\n",
              " '__gt__',\n",
              " '__hash__',\n",
              " '__iadd__',\n",
              " '__imul__',\n",
              " '__init__',\n",
              " '__init_subclass__',\n",
              " '__iter__',\n",
              " '__le__',\n",
              " '__len__',\n",
              " '__lt__',\n",
              " '__mul__',\n",
              " '__ne__',\n",
              " '__new__',\n",
              " '__reduce__',\n",
              " '__reduce_ex__',\n",
              " '__repr__',\n",
              " '__reversed__',\n",
              " '__rmul__',\n",
              " '__setattr__',\n",
              " '__setitem__',\n",
              " '__sizeof__',\n",
              " '__str__',\n",
              " '__subclasshook__',\n",
              " 'append',\n",
              " 'clear',\n",
              " 'copy',\n",
              " 'count',\n",
              " 'extend',\n",
              " 'index',\n",
              " 'insert',\n",
              " 'pop',\n",
              " 'remove',\n",
              " 'reverse',\n",
              " 'sort']"
            ]
          },
          "metadata": {},
          "execution_count": 81
        }
      ]
    },
    {
      "cell_type": "code",
      "source": [
        "next(y)"
      ],
      "metadata": {
        "colab": {
          "base_uri": "https://localhost:8080/"
        },
        "id": "L4D-A_xfiM26",
        "outputId": "16b54257-39f2-4185-8b43-7ff15019f0db"
      },
      "execution_count": null,
      "outputs": [
        {
          "output_type": "execute_result",
          "data": {
            "text/plain": [
              "1"
            ]
          },
          "metadata": {},
          "execution_count": 75
        }
      ]
    },
    {
      "cell_type": "code",
      "source": [
        "next(y)"
      ],
      "metadata": {
        "colab": {
          "base_uri": "https://localhost:8080/"
        },
        "id": "8b8gloMMiPjz",
        "outputId": "c76e2d3d-97bb-4a66-e24e-40f4e08b1269"
      },
      "execution_count": null,
      "outputs": [
        {
          "output_type": "execute_result",
          "data": {
            "text/plain": [
              "2"
            ]
          },
          "metadata": {},
          "execution_count": 76
        }
      ]
    },
    {
      "cell_type": "code",
      "source": [
        "next(y)"
      ],
      "metadata": {
        "colab": {
          "base_uri": "https://localhost:8080/"
        },
        "id": "8oZk4cCOiQkz",
        "outputId": "388248c5-57ad-473b-b7cf-86fd8cbfc461"
      },
      "execution_count": null,
      "outputs": [
        {
          "output_type": "execute_result",
          "data": {
            "text/plain": [
              "3"
            ]
          },
          "metadata": {},
          "execution_count": 77
        }
      ]
    },
    {
      "cell_type": "code",
      "source": [
        "dir(y) #next함수가 있으면 iterator "
      ],
      "metadata": {
        "colab": {
          "base_uri": "https://localhost:8080/"
        },
        "id": "z_4Hjri7iUme",
        "outputId": "7e2b7241-fc63-4e8d-9b28-d9117b8c52dc"
      },
      "execution_count": null,
      "outputs": [
        {
          "output_type": "execute_result",
          "data": {
            "text/plain": [
              "['__class__',\n",
              " '__delattr__',\n",
              " '__dir__',\n",
              " '__doc__',\n",
              " '__eq__',\n",
              " '__format__',\n",
              " '__ge__',\n",
              " '__getattribute__',\n",
              " '__gt__',\n",
              " '__hash__',\n",
              " '__init__',\n",
              " '__init_subclass__',\n",
              " '__iter__',\n",
              " '__le__',\n",
              " '__length_hint__',\n",
              " '__lt__',\n",
              " '__ne__',\n",
              " '__new__',\n",
              " '__next__',\n",
              " '__reduce__',\n",
              " '__reduce_ex__',\n",
              " '__repr__',\n",
              " '__setattr__',\n",
              " '__setstate__',\n",
              " '__sizeof__',\n",
              " '__str__',\n",
              " '__subclasshook__']"
            ]
          },
          "metadata": {},
          "execution_count": 78
        }
      ]
    },
    {
      "cell_type": "markdown",
      "source": [
        "### unit 19 중첩 루프\n"
      ],
      "metadata": {
        "id": "54GSBq2uPZ7y"
      }
    },
    {
      "cell_type": "code",
      "source": [
        "#계단식 별 출력 \n",
        "for i in range(1,5+1):\n",
        "  for j in range(i):\n",
        "    print('*', end = '')\n",
        "  print()"
      ],
      "metadata": {
        "colab": {
          "base_uri": "https://localhost:8080/"
        },
        "id": "8MQ-BZJ6PZaN",
        "outputId": "7521ed6d-5e46-4e6b-f6a4-0bc918795907"
      },
      "execution_count": null,
      "outputs": [
        {
          "output_type": "stream",
          "name": "stdout",
          "text": [
            "*\n",
            "**\n",
            "***\n",
            "****\n",
            "*****\n"
          ]
        }
      ]
    },
    {
      "cell_type": "code",
      "source": [
        "for i in range(5):\n",
        "    for j in range(5):\n",
        "        if i>=j:\n",
        "            print('*', end='')\n",
        "    print()"
      ],
      "metadata": {
        "colab": {
          "base_uri": "https://localhost:8080/"
        },
        "id": "N7Zp5TG8a7o-",
        "outputId": "f64bb5f8-81d4-4143-c107-bc27dcab7f83"
      },
      "execution_count": null,
      "outputs": [
        {
          "output_type": "stream",
          "name": "stdout",
          "text": [
            "*\n",
            "**\n",
            "***\n",
            "****\n",
            "*****\n"
          ]
        }
      ]
    },
    {
      "cell_type": "code",
      "source": [
        "# 별2\n",
        "for i in range(1,5+1):\n",
        "  for j in range(5+1-i):\n",
        "    print('*', end = '')\n",
        "  print()"
      ],
      "metadata": {
        "colab": {
          "base_uri": "https://localhost:8080/"
        },
        "id": "6NvfLJJzR_W6",
        "outputId": "fd41c559-91a0-422f-f364-4db914192d87"
      },
      "execution_count": null,
      "outputs": [
        {
          "output_type": "stream",
          "name": "stdout",
          "text": [
            "*****\n",
            "****\n",
            "***\n",
            "**\n",
            "*\n"
          ]
        }
      ]
    },
    {
      "cell_type": "code",
      "source": [
        "# 별3 \n",
        "# https://blog.naver.com/PostView.nhn?isHttpsRedirect=true&blogId=imbin_&logNo=221385624266&categoryNo=23&parentCategoryNo=0 \n",
        "for i in range(1,5+1):\n",
        "  for j in range(5-i):\n",
        "    print()"
      ],
      "metadata": {
        "colab": {
          "base_uri": "https://localhost:8080/"
        },
        "id": "3j9MsqyiUJ5S",
        "outputId": "da71fa82-1e86-4378-c977-e0df8fe7126c"
      },
      "execution_count": null,
      "outputs": [
        {
          "output_type": "stream",
          "name": "stdout",
          "text": [
            "\n",
            "\n",
            "\n",
            "\n",
            "\n",
            "\n",
            "\n",
            "\n",
            "\n",
            "\n"
          ]
        }
      ]
    },
    {
      "cell_type": "code",
      "source": [
        "#사각형 출력\n",
        "for i in range(5):\n",
        "  for j in range(5):\n",
        "    print('*', end='')\n",
        "  print()"
      ],
      "metadata": {
        "colab": {
          "base_uri": "https://localhost:8080/"
        },
        "id": "k-zNlHgQQh7Y",
        "outputId": "e1fcfa8c-fb13-45ba-d23c-0bea9236ac55"
      },
      "execution_count": null,
      "outputs": [
        {
          "output_type": "stream",
          "name": "stdout",
          "text": [
            "*****\n",
            "*****\n",
            "*****\n",
            "*****\n",
            "*****\n"
          ]
        }
      ]
    },
    {
      "cell_type": "code",
      "source": [
        "#사이즈 조정 가능한 사각형 출력\n",
        "가로, 세로 = map(int, input().split())\n",
        "\n",
        "for i in range(세로): #시침\n",
        "  for j in range(가로): #분침(먼저 돌아가는 루프)\n",
        "    print('*', end = '')\n",
        "  print()"
      ],
      "metadata": {
        "colab": {
          "base_uri": "https://localhost:8080/"
        },
        "id": "GVpOvCnXQvcQ",
        "outputId": "a125e616-4b24-4488-a1aa-9c389862f3e8"
      },
      "execution_count": null,
      "outputs": [
        {
          "output_type": "stream",
          "name": "stdout",
          "text": [
            "5 3\n",
            "*****\n",
            "*****\n",
            "*****\n"
          ]
        }
      ]
    },
    {
      "cell_type": "code",
      "source": [
        "for i in range(1,100+1):\n",
        "  if i % 3 == 0:\n",
        "    print('Frizz')\n",
        "  if i % 5 == 0:\n",
        "    print('Buzz') \n",
        "  ## 공배수는? \n",
        "  else: \n",
        "    print(i)"
      ],
      "metadata": {
        "colab": {
          "base_uri": "https://localhost:8080/"
        },
        "id": "34hfTEHKbtwT",
        "outputId": "08bbeb59-d2fd-4f59-f06d-130d497a7c9d"
      },
      "execution_count": null,
      "outputs": [
        {
          "output_type": "stream",
          "name": "stdout",
          "text": [
            "1\n",
            "2\n",
            "Frizz\n",
            "4\n",
            "Buzz\n",
            "Frizz\n",
            "7\n",
            "8\n",
            "Frizz\n",
            "Buzz\n",
            "11\n",
            "Frizz\n",
            "13\n",
            "14\n",
            "Frizz\n",
            "16\n",
            "17\n",
            "Frizz\n",
            "19\n",
            "Buzz\n",
            "Frizz\n",
            "22\n",
            "23\n",
            "Frizz\n",
            "Buzz\n",
            "26\n",
            "Frizz\n",
            "28\n",
            "29\n",
            "Frizz\n",
            "31\n",
            "32\n",
            "Frizz\n",
            "34\n",
            "Buzz\n",
            "Frizz\n",
            "37\n",
            "38\n",
            "Frizz\n",
            "Buzz\n",
            "41\n",
            "Frizz\n",
            "43\n",
            "44\n",
            "Frizz\n",
            "46\n",
            "47\n",
            "Frizz\n",
            "49\n",
            "Buzz\n",
            "Frizz\n",
            "52\n",
            "53\n",
            "Frizz\n",
            "Buzz\n",
            "56\n",
            "Frizz\n",
            "58\n",
            "59\n",
            "Frizz\n",
            "61\n",
            "62\n",
            "Frizz\n",
            "64\n",
            "Buzz\n",
            "Frizz\n",
            "67\n",
            "68\n",
            "Frizz\n",
            "Buzz\n",
            "71\n",
            "Frizz\n",
            "73\n",
            "74\n",
            "Frizz\n",
            "76\n",
            "77\n",
            "Frizz\n",
            "79\n",
            "Buzz\n",
            "Frizz\n",
            "82\n",
            "83\n",
            "Frizz\n",
            "Buzz\n",
            "86\n",
            "Frizz\n",
            "88\n",
            "89\n",
            "Frizz\n",
            "91\n",
            "92\n",
            "Frizz\n",
            "94\n",
            "Buzz\n",
            "Frizz\n",
            "97\n",
            "98\n",
            "Frizz\n",
            "Buzz\n"
          ]
        }
      ]
    },
    {
      "cell_type": "code",
      "source": [
        "for i in range(1,100+1):\n",
        "  if i % 3 == 0:\n",
        "    print('Frizz')\n",
        "  elif i % 5 == 0:\n",
        "    print('Buzz')\n",
        "  else: \n",
        "    print(i)"
      ],
      "metadata": {
        "colab": {
          "base_uri": "https://localhost:8080/"
        },
        "id": "XZ10Yjx4ctlP",
        "outputId": "a01e4fda-184e-4313-f24e-2d2a773c980b"
      },
      "execution_count": null,
      "outputs": [
        {
          "output_type": "stream",
          "name": "stdout",
          "text": [
            "1\n",
            "2\n",
            "Frizz\n",
            "4\n",
            "Buzz\n",
            "Frizz\n",
            "7\n",
            "8\n",
            "Frizz\n",
            "Buzz\n",
            "11\n",
            "Frizz\n",
            "13\n",
            "14\n",
            "Frizz\n",
            "16\n",
            "17\n",
            "Frizz\n",
            "19\n",
            "Buzz\n",
            "Frizz\n",
            "22\n",
            "23\n",
            "Frizz\n",
            "Buzz\n",
            "26\n",
            "Frizz\n",
            "28\n",
            "29\n",
            "Frizz\n",
            "31\n",
            "32\n",
            "Frizz\n",
            "34\n",
            "Buzz\n",
            "Frizz\n",
            "37\n",
            "38\n",
            "Frizz\n",
            "Buzz\n",
            "41\n",
            "Frizz\n",
            "43\n",
            "44\n",
            "Frizz\n",
            "46\n",
            "47\n",
            "Frizz\n",
            "49\n",
            "Buzz\n",
            "Frizz\n",
            "52\n",
            "53\n",
            "Frizz\n",
            "Buzz\n",
            "56\n",
            "Frizz\n",
            "58\n",
            "59\n",
            "Frizz\n",
            "61\n",
            "62\n",
            "Frizz\n",
            "64\n",
            "Buzz\n",
            "Frizz\n",
            "67\n",
            "68\n",
            "Frizz\n",
            "Buzz\n",
            "71\n",
            "Frizz\n",
            "73\n",
            "74\n",
            "Frizz\n",
            "76\n",
            "77\n",
            "Frizz\n",
            "79\n",
            "Buzz\n",
            "Frizz\n",
            "82\n",
            "83\n",
            "Frizz\n",
            "Buzz\n",
            "86\n",
            "Frizz\n",
            "88\n",
            "89\n",
            "Frizz\n",
            "91\n",
            "92\n",
            "Frizz\n",
            "94\n",
            "Buzz\n",
            "Frizz\n",
            "97\n",
            "98\n",
            "Frizz\n",
            "Buzz\n"
          ]
        }
      ]
    },
    {
      "cell_type": "code",
      "source": [
        "for i in range(1,101):\n",
        "  if i%2==0 :\n",
        "    print('Fizz')\n",
        "  elif i%11==0:\n",
        "    print('Buzz')\n",
        "  elif i%2==0 and i%11==0:\n",
        "    print('FizzBuzz')\n",
        "  else:\n",
        "    print(i)"
      ],
      "metadata": {
        "colab": {
          "base_uri": "https://localhost:8080/"
        },
        "id": "hcDckbSsezBZ",
        "outputId": "e8fdeead-9a06-4d06-f86a-52d50870b613"
      },
      "execution_count": null,
      "outputs": [
        {
          "output_type": "stream",
          "name": "stdout",
          "text": [
            "1\n",
            "Fizz\n",
            "3\n",
            "Fizz\n",
            "5\n",
            "Fizz\n",
            "7\n",
            "Fizz\n",
            "9\n",
            "Fizz\n",
            "Buzz\n",
            "Fizz\n",
            "13\n",
            "Fizz\n",
            "15\n",
            "Fizz\n",
            "17\n",
            "Fizz\n",
            "19\n",
            "Fizz\n",
            "21\n",
            "Fizz\n",
            "23\n",
            "Fizz\n",
            "25\n",
            "Fizz\n",
            "27\n",
            "Fizz\n",
            "29\n",
            "Fizz\n",
            "31\n",
            "Fizz\n",
            "Buzz\n",
            "Fizz\n",
            "35\n",
            "Fizz\n",
            "37\n",
            "Fizz\n",
            "39\n",
            "Fizz\n",
            "41\n",
            "Fizz\n",
            "43\n",
            "Fizz\n",
            "45\n",
            "Fizz\n",
            "47\n",
            "Fizz\n",
            "49\n",
            "Fizz\n",
            "51\n",
            "Fizz\n",
            "53\n",
            "Fizz\n",
            "Buzz\n",
            "Fizz\n",
            "57\n",
            "Fizz\n",
            "59\n",
            "Fizz\n",
            "61\n",
            "Fizz\n",
            "63\n",
            "Fizz\n",
            "65\n",
            "Fizz\n",
            "67\n",
            "Fizz\n",
            "69\n",
            "Fizz\n",
            "71\n",
            "Fizz\n",
            "73\n",
            "Fizz\n",
            "75\n",
            "Fizz\n",
            "Buzz\n",
            "Fizz\n",
            "79\n",
            "Fizz\n",
            "81\n",
            "Fizz\n",
            "83\n",
            "Fizz\n",
            "85\n",
            "Fizz\n",
            "87\n",
            "Fizz\n",
            "89\n",
            "Fizz\n",
            "91\n",
            "Fizz\n",
            "93\n",
            "Fizz\n",
            "95\n",
            "Fizz\n",
            "97\n",
            "Fizz\n",
            "Buzz\n",
            "Fizz\n"
          ]
        }
      ]
    },
    {
      "cell_type": "code",
      "source": [
        "x,y = map(int, input().split())\n",
        "\n",
        "\n",
        "def check(i):\n",
        "  if i%5==0 and i%7==0 :\n",
        "    print('FizzBuzz')\n",
        "  elif i%7==0:\n",
        "    print('Buzz')\n",
        "  elif i%5==0:\n",
        "    print('Fizz')\n",
        "  else:\n",
        "    print(i)\n",
        "\n",
        "for i in range(x,y+1):\n",
        "  check(i)"
      ],
      "metadata": {
        "colab": {
          "base_uri": "https://localhost:8080/"
        },
        "id": "kQ1kJrHhfXf2",
        "outputId": "fcf0c6cb-1c94-4529-c4c2-ba2fec276308"
      },
      "execution_count": null,
      "outputs": [
        {
          "output_type": "stream",
          "name": "stdout",
          "text": [
            "35 40\n",
            "FizzBuzz\n",
            "36\n",
            "37\n",
            "38\n",
            "39\n",
            "Fizz\n"
          ]
        }
      ]
    },
    {
      "cell_type": "markdown",
      "source": [
        "\n",
        "### unit22 리스트와 튜플 응용\n",
        "```\n",
        "<linear data structures>\n",
        " We will begin our study of data structures by\n",
        "considering four simple but very powerful concepts. \n",
        "Stacks, queues,deques, and lists are examples of data collections whose items are ordered depending on how they are added or removed. \n",
        "```\n",
        "\n",
        "- stack : last in first out (LIFO)\n",
        "\n",
        "```s.push('dog')```[4,'dog']\n",
        "- queue : first in first out (FIFO)\n",
        "\n",
        "```s.push('dog')``` [4,'dog']\n",
        "- deque : front, end 둘다 \n",
        "\n",
        "```d.addRear('dog')```['dog',4,]\n",
        "\n",
        "```d.addFront('cat')```['dog',4,'cat']\n",
        "\n",
        "\n",
        "stack 과 queue 활용 할때 유용한 이유\n",
        "- https://hee96-story.tistory.com/91\n",
        "-  https://cocoon1787.tistory.com/691"
      ],
      "metadata": {
        "id": "3Zmk9uULS1OG"
      }
    },
    {
      "cell_type": "code",
      "source": [
        "a=[1,2,3]\n",
        "b=['a','b','c']\n",
        "\n",
        "c = a+b\n",
        "c"
      ],
      "metadata": {
        "colab": {
          "base_uri": "https://localhost:8080/"
        },
        "id": "aEO-OfioW4Fo",
        "outputId": "c29128d7-a5bd-4cec-b644-500c38f03557"
      },
      "execution_count": null,
      "outputs": [
        {
          "output_type": "execute_result",
          "data": {
            "text/plain": [
              "[1, 2, 3, 'a', 'b', 'c']"
            ]
          },
          "metadata": {},
          "execution_count": 6
        }
      ]
    },
    {
      "cell_type": "code",
      "source": [
        "a.extend(b)\n",
        "a"
      ],
      "metadata": {
        "colab": {
          "base_uri": "https://localhost:8080/"
        },
        "id": "KynqMrc6W9lU",
        "outputId": "1a4f5a24-ac24-45f7-8749-38f4c02de960"
      },
      "execution_count": null,
      "outputs": [
        {
          "output_type": "execute_result",
          "data": {
            "text/plain": [
              "[1, 2, 3, 'a', 'b', 'c']"
            ]
          },
          "metadata": {},
          "execution_count": 7
        }
      ]
    },
    {
      "cell_type": "code",
      "source": [
        "b.append('e')\n",
        "b"
      ],
      "metadata": {
        "colab": {
          "base_uri": "https://localhost:8080/"
        },
        "id": "acaKjsf9Xl5u",
        "outputId": "fb0cc5d9-4843-4998-8bc4-20c766e2b9ce"
      },
      "execution_count": null,
      "outputs": [
        {
          "output_type": "execute_result",
          "data": {
            "text/plain": [
              "['a', 'b', 'c', 'd', 'd', 'e']"
            ]
          },
          "metadata": {},
          "execution_count": 15
        }
      ]
    },
    {
      "cell_type": "code",
      "source": [
        "b.append(['e','f'])\n",
        "b"
      ],
      "metadata": {
        "colab": {
          "base_uri": "https://localhost:8080/"
        },
        "id": "OQcxZSRWXT1F",
        "outputId": "e627f5f5-acbc-4269-dbb0-f45b89fb2ca3"
      },
      "execution_count": null,
      "outputs": [
        {
          "output_type": "execute_result",
          "data": {
            "text/plain": [
              "['a', 'b', 'c', 'd', 'd', 'e', ['e', 'f']]"
            ]
          },
          "metadata": {},
          "execution_count": 16
        }
      ]
    },
    {
      "cell_type": "code",
      "source": [
        "#element 제거\n",
        "\n",
        "#pop\n",
        "#default 마지막 요소 삭제, 다른 index로 element삭제 가능\n",
        "a = [10, 20, 30]\n",
        "print(a.pop()) #마지막 요소 삭제\n",
        "print(a)\n",
        "\n",
        "#del \n",
        "#index 사용\n",
        "a = [10, 20, 30]\n",
        "del a[2] #요소 삭제\n",
        "print(a)\n",
        "\n",
        "#remove\n",
        "#element 삭제\n",
        "a = [10, 20, 30]\n",
        "a.remove(30) \n",
        "print(a)"
      ],
      "metadata": {
        "colab": {
          "base_uri": "https://localhost:8080/"
        },
        "id": "w8mFtHJuX2OF",
        "outputId": "6c583c88-7f08-4e37-b64d-aa892746f10e"
      },
      "execution_count": null,
      "outputs": [
        {
          "output_type": "stream",
          "name": "stdout",
          "text": [
            "30\n",
            "[10, 20]\n",
            "[10, 20]\n",
            "[10, 20]\n"
          ]
        }
      ]
    },
    {
      "cell_type": "code",
      "source": [
        "#element 제거\n",
        "\n",
        "#pop\n",
        "#마지막 요소 삭제\n",
        "a = [10, 20, 30]\n",
        "print(a.pop(2)) #마지막 요소 삭제\n",
        "print(a)\n"
      ],
      "metadata": {
        "colab": {
          "base_uri": "https://localhost:8080/"
        },
        "id": "AwASllE3bRSu",
        "outputId": "4f683d28-44e7-4eb7-b581-ad766734a382"
      },
      "execution_count": null,
      "outputs": [
        {
          "output_type": "stream",
          "name": "stdout",
          "text": [
            "30\n",
            "[10, 20]\n"
          ]
        }
      ]
    },
    {
      "cell_type": "code",
      "source": [],
      "metadata": {
        "id": "nGaNoWQ0YuWC"
      },
      "execution_count": null,
      "outputs": []
    },
    {
      "cell_type": "code",
      "source": [],
      "metadata": {
        "id": "2TWYR33lYuY4"
      },
      "execution_count": null,
      "outputs": []
    },
    {
      "cell_type": "code",
      "source": [
        "### unit 23 \n",
        "\n",
        "- mutable 과 immutable\n",
        "- 메모리\n",
        "- 리스트의 인덱스와 주소\n",
        "- \n",
        " copy deepcopy\n",
        " 파이썬은 객체\n",
        " 변수 할당 개염 "
      ],
      "metadata": {
        "id": "-JlPmySsSyFd"
      },
      "execution_count": null,
      "outputs": []
    },
    {
      "cell_type": "code",
      "source": [],
      "metadata": {
        "id": "G4WbmnJiXclK"
      },
      "execution_count": null,
      "outputs": []
    },
    {
      "cell_type": "markdown",
      "source": [
        "우선 리스트는 mutable\n"
      ],
      "metadata": {
        "id": "Ox_g8HDOXcvK"
      }
    },
    {
      "cell_type": "code",
      "source": [
        "a = [1,2,3]\n",
        "print(id(a))\n",
        "\n",
        "a[0]=1024\n",
        "list(id(a))\n"
      ],
      "metadata": {
        "id": "yIdwrN1uXVhz"
      },
      "execution_count": null,
      "outputs": []
    },
    {
      "cell_type": "code",
      "source": [
        "a = [1,2,3]\n",
        "b = copy.copy(a)\n"
      ],
      "metadata": {
        "id": "JCiB79Bu1rDr"
      },
      "execution_count": null,
      "outputs": []
    }
  ]
}